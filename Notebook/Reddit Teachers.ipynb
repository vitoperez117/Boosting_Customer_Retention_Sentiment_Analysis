{
 "cells": [
  {
   "cell_type": "markdown",
   "id": "f2591f9d-1b5e-496e-84d4-75db9fb56443",
   "metadata": {},
   "source": [
    "# Educational Curriculum Product Review Analysis: Eureka Math by Great Minds"
   ]
  },
  {
   "cell_type": "code",
   "execution_count": 1,
   "id": "15f46dd2-d809-4392-8095-dd7d4548dbba",
   "metadata": {},
   "outputs": [],
   "source": [
    "#Reddit Scraper Library\n",
    "import praw\n",
    "from praw.models import MoreComments\n",
    "from pprint import pprint\n",
    "\n",
    "import pandas as pd\n",
    "import numpy as np\n",
    "import matplotlib.pyplot as plt\n",
    "\n",
    "#Sentiment Analysis Library\n",
    "import nltk\n",
    "from nltk.sentiment.vader import SentimentIntensityAnalyzer\n",
    "from nltk.sentiment import SentimentIntensityAnalyzer\n",
    "from nltk.corpus import stopwords\n",
    "from nltk.tokenize import word_tokenize\n",
    "from nltk.tokenize import RegexpTokenizer\n",
    "from nltk.stem import WordNetLemmatizer\n",
    "\n",
    "#Keyword Extractor\n",
    "from rake_nltk import Rake\n",
    "\n",
    "#Topic Modelling Library\n",
    "from gensim import corpora\n",
    "from gensim.models import LsiModel\n",
    "from gensim.models import LdaModel\n",
    "\n",
    "#Word Cloud Visualization Library\n",
    "from wordcloud import WordCloud\n",
    "\n",
    "#T5 Summarizer\n",
    "#from transformers import T5Tokenizer, TFT5ForConditionalGeneration"
   ]
  },
  {
   "cell_type": "markdown",
   "id": "4465c639-8709-4c3c-a2b8-ff69eb3fec11",
   "metadata": {},
   "source": [
    "### Build Reddit Scraper"
   ]
  },
  {
   "cell_type": "code",
   "execution_count": 2,
   "id": "20ed4cc4-0145-44cc-bcee-a8c79c6ab9e7",
   "metadata": {},
   "outputs": [],
   "source": [
    "#Initiate Reddit Instance\n",
    "reddit = praw.Reddit(\n",
    "    client_id=\"z3DgdGeM3hPFNuru2P3FGQ\",\n",
    "    client_secret=\"NtBXsZsU0PPq3_mlwtahh3gAk5MWXg\",\n",
    "    user_agent=\"r/teacher scraper by u/carlschwabb\",\n",
    ")"
   ]
  },
  {
   "cell_type": "code",
   "execution_count": 251,
   "id": "937650cf-7e92-4387-8272-7d11672d395c",
   "metadata": {},
   "outputs": [
    {
     "data": {
      "text/plain": [
       "'submissionList = []\\nsubmission.comments.replace_more(limit=None)\\nfor comment in submission.comments.list():\\n    submissionList.append(comment)'"
      ]
     },
     "execution_count": 251,
     "metadata": {},
     "output_type": "execute_result"
    }
   ],
   "source": [
    "'''submissionList = []\n",
    "submission.comments.replace_more(limit=None)\n",
    "for comment in submission.comments.list():\n",
    "    submissionList.append(comment)'''"
   ]
  },
  {
   "cell_type": "code",
   "execution_count": 252,
   "id": "79f04029-9671-408d-92ef-5de52d7c5dea",
   "metadata": {},
   "outputs": [
    {
     "data": {
      "text/plain": [
       "'def getSubComments(comment, allComments, verbose=True):\\n  allComments.append(comment)\\n  if not hasattr(comment, \"replies\"):\\n    replies = comment.comments()\\n    if verbose: print(\"fetching (\" + str(len(allComments)) + \" comments fetched total)\")\\n  else:\\n    replies = comment.replies\\n  for child in replies:\\n    getSubComments(child, allComments, verbose=verbose)\\n\\n\\ndef getAll(r, submissionId, verbose=True):\\n  submission = r.submission(submissionId)\\n  comments = submission.comments\\n  commentsList = []\\n  for comment in comments:\\n    getSubComments(comment, commentsList, verbose=verbose)\\n  return commentsList'"
      ]
     },
     "execution_count": 252,
     "metadata": {},
     "output_type": "execute_result"
    }
   ],
   "source": [
    "'''def getSubComments(comment, allComments, verbose=True):\n",
    "  allComments.append(comment)\n",
    "  if not hasattr(comment, \"replies\"):\n",
    "    replies = comment.comments()\n",
    "    if verbose: print(\"fetching (\" + str(len(allComments)) + \" comments fetched total)\")\n",
    "  else:\n",
    "    replies = comment.replies\n",
    "  for child in replies:\n",
    "    getSubComments(child, allComments, verbose=verbose)\n",
    "\n",
    "\n",
    "def getAll(r, submissionId, verbose=True):\n",
    "  submission = r.submission(submissionId)\n",
    "  comments = submission.comments\n",
    "  commentsList = []\n",
    "  for comment in comments:\n",
    "    getSubComments(comment, commentsList, verbose=verbose)\n",
    "  return commentsList'''"
   ]
  },
  {
   "cell_type": "markdown",
   "id": "df22b736-4c65-45dd-8005-a5db5aff9633",
   "metadata": {},
   "source": [
    "### Scrape r/Teachers Subreddit for Posts, Comments, and Replies regarding 'Eureka'"
   ]
  },
  {
   "cell_type": "code",
   "execution_count": 3,
   "id": "4774c687-14cf-425f-ab85-c5bc69658f22",
   "metadata": {},
   "outputs": [],
   "source": [
    "def get_reviews (subreddit, keyword):\n",
    "\n",
    "    pcr = []\n",
    "    \n",
    "    for submission in reddit.subreddit(subreddit).search(keyword, limit=None):\n",
    "        entry = {'date': submission.created_utc,\n",
    "                'author': submission.author,\n",
    "                'title': submission.title,\n",
    "                'text': submission.selftext,\n",
    "                'url': submission.url}\n",
    "        pcr.append(entry)\n",
    "        for c in submission.comments:\n",
    "            entry_c = {'date': c.created_utc,\n",
    "                       'author': c.author,\n",
    "                       'title': 'comment',\n",
    "                       'text': c.body,\n",
    "                       'url': c.permalink}\n",
    "            pcr.append(entry_c)\n",
    "            for r in c.replies:\n",
    "                entry_r = {'date': r.created_utc,\n",
    "                           'author': r.author,\n",
    "                           'title': 'reply',\n",
    "                           'text': r.body,\n",
    "                           'url': r.permalink}\n",
    "                pcr.append(entry_r)\n",
    "                for rr in r.replies:\n",
    "                    entry_rr = {'date': rr.created_utc,\n",
    "                                'author': rr.author,\n",
    "                                'title': 'sub1reply',\n",
    "                                'text': rr.body,\n",
    "                                'url': rr.permalink}\n",
    "                    pcr.append(entry_rr)\n",
    "                    for rrr in rr.replies:\n",
    "                        entry_rrr = {'date': rrr.created_utc,\n",
    "                                     'author': rrr.author,\n",
    "                                     'title': 'sub2reply',\n",
    "                                     'text': rrr.body,\n",
    "                                     'url': rrr.permalink}\n",
    "                        pcr.append(entry_rrr)\n",
    "                        for rrrr in rrr.replies:\n",
    "                            entry_rrrr = {'date': rrrr.created_utc,\n",
    "                                        'author': rrrr.author,\n",
    "                                        'title': 'sub3reply',\n",
    "                                        'text': rrrr.body,\n",
    "                                        'url': rrrr.permalink}\n",
    "                            pcr.append(entry_rrrr)\n",
    "                            for rrrrr in rrrr.replies:\n",
    "                                entry_rrrrr = {'date': rr.created_utc,\n",
    "                                            'author': rr.author,\n",
    "                                            'title': 'sub4reply',\n",
    "                                            'text': rr.body,\n",
    "                                            'url': rr.permalink}\n",
    "    return pcr"
   ]
  },
  {
   "cell_type": "code",
   "execution_count": null,
   "id": "83ec7039-00fd-4dbf-880e-82217154d9e0",
   "metadata": {},
   "outputs": [],
   "source": [
    "'''\n",
    "SIMPLIFIED\n",
    "'''\n",
    "\n",
    "def extract_entries(entry, title_prefix):\n",
    "    \"\"\"\n",
    "    Recursively extract entries from a submission or comment.\n",
    "    \"\"\"\n",
    "    entries = []\n",
    "    \n",
    "    # Create an entry for the current object\n",
    "    entries.append({\n",
    "        'date': entry.created_utc,\n",
    "        'author': entry.author,\n",
    "        'title': title_prefix,\n",
    "        'text': entry.body if hasattr(entry, 'body') else entry.selftext,\n",
    "        'url': entry.permalink if hasattr(entry, 'permalink') else entry.url\n",
    "    })\n",
    "    \n",
    "    # Recursively process replies\n",
    "    for reply in getattr(entry, 'replies', []):\n",
    "        entries.extend(extract_entries(reply, f'{title_prefix} reply'))\n",
    "    \n",
    "    return entries\n",
    "\n",
    "def get_reviews(subreddit, keyword):\n",
    "    \"\"\"\n",
    "    Retrieve reviews and their replies from a given subreddit based on a keyword.\n",
    "    \"\"\"\n",
    "    pcr = []\n",
    "    \n",
    "    for submission in reddit.subreddit(subreddit).search(keyword, limit=None):\n",
    "        # Process the submission itself\n",
    "        pcr.extend(extract_entries(submission, 'submission'))\n",
    "        \n",
    "        # Process comments\n",
    "        for comment in submission.comments:\n",
    "            pcr.extend(extract_entries(comment, 'comment'))\n",
    "    \n",
    "    return pcr"
   ]
  },
  {
   "cell_type": "code",
   "execution_count": 4,
   "id": "a137a51a-0c3f-4b21-a45e-90b7b2a373ae",
   "metadata": {},
   "outputs": [],
   "source": [
    "pcr = get_reviews('Teachers', 'eureka');"
   ]
  },
  {
   "cell_type": "code",
   "execution_count": 7,
   "id": "ba758924-4da3-44af-b9e2-666d6ba1fa5e",
   "metadata": {},
   "outputs": [
    {
     "data": {
      "text/plain": [
       "1490"
      ]
     },
     "execution_count": 7,
     "metadata": {},
     "output_type": "execute_result"
    }
   ],
   "source": [
    "len(pcr)"
   ]
  },
  {
   "cell_type": "markdown",
   "id": "8f638428-b8ff-4e70-8d90-77ed79c41dda",
   "metadata": {},
   "source": [
    "### Create DataFrame from List of Reddit Reviews"
   ]
  },
  {
   "cell_type": "code",
   "execution_count": 8,
   "id": "89f864f9-4745-404f-b6ca-54e8c935a347",
   "metadata": {},
   "outputs": [],
   "source": [
    "df = pd.DataFrame.from_records(pcr)"
   ]
  },
  {
   "cell_type": "code",
   "execution_count": 9,
   "id": "d79fe938-475e-4bc1-bddd-f25138e447e6",
   "metadata": {},
   "outputs": [
    {
     "data": {
      "text/html": [
       "<div>\n",
       "<style scoped>\n",
       "    .dataframe tbody tr th:only-of-type {\n",
       "        vertical-align: middle;\n",
       "    }\n",
       "\n",
       "    .dataframe tbody tr th {\n",
       "        vertical-align: top;\n",
       "    }\n",
       "\n",
       "    .dataframe thead th {\n",
       "        text-align: right;\n",
       "    }\n",
       "</style>\n",
       "<table border=\"1\" class=\"dataframe\">\n",
       "  <thead>\n",
       "    <tr style=\"text-align: right;\">\n",
       "      <th></th>\n",
       "      <th>date</th>\n",
       "      <th>author</th>\n",
       "      <th>title</th>\n",
       "      <th>text</th>\n",
       "      <th>url</th>\n",
       "    </tr>\n",
       "  </thead>\n",
       "  <tbody>\n",
       "    <tr>\n",
       "      <th>0</th>\n",
       "      <td>1.723591e+09</td>\n",
       "      <td>Expert_Midnight_7677</td>\n",
       "      <td>Eureka math for combo class?</td>\n",
       "      <td>Has anyone taught Eureka math to 1st and 2nd g...</td>\n",
       "      <td>https://www.reddit.com/r/Teachers/comments/1er...</td>\n",
       "    </tr>\n",
       "    <tr>\n",
       "      <th>1</th>\n",
       "      <td>1.723599e+09</td>\n",
       "      <td>Tiredanddontcare</td>\n",
       "      <td>comment</td>\n",
       "      <td>Not first and second but I did teach 3rd and 4...</td>\n",
       "      <td>/r/Teachers/comments/1erm9cz/eureka_math_for_c...</td>\n",
       "    </tr>\n",
       "    <tr>\n",
       "      <th>2</th>\n",
       "      <td>1.710810e+09</td>\n",
       "      <td>maaximo</td>\n",
       "      <td>Eureka squared</td>\n",
       "      <td>Anyone using this? Specifically the 7/8 compac...</td>\n",
       "      <td>https://www.reddit.com/r/Teachers/comments/1bi...</td>\n",
       "    </tr>\n",
       "    <tr>\n",
       "      <th>3</th>\n",
       "      <td>1.721157e+09</td>\n",
       "      <td>Latter_Text4725</td>\n",
       "      <td>Eureka SQUARED 8th &amp; 7th grade Slides</td>\n",
       "      <td>Hi there, \\n\\n  \\nThis is my 4th year teaching...</td>\n",
       "      <td>https://www.reddit.com/r/Teachers/comments/1e4...</td>\n",
       "    </tr>\n",
       "    <tr>\n",
       "      <th>4</th>\n",
       "      <td>1.705602e+09</td>\n",
       "      <td>Reasonable_Cover3220</td>\n",
       "      <td>Eureka Math Citation</td>\n",
       "      <td>Hello! I am doing my EdTPA and i am wondering ...</td>\n",
       "      <td>https://www.reddit.com/r/Teachers/comments/199...</td>\n",
       "    </tr>\n",
       "  </tbody>\n",
       "</table>\n",
       "</div>"
      ],
      "text/plain": [
       "           date                author                                  title  \\\n",
       "0  1.723591e+09  Expert_Midnight_7677          Eureka math for combo class?    \n",
       "1  1.723599e+09      Tiredanddontcare                                comment   \n",
       "2  1.710810e+09               maaximo                        Eureka squared    \n",
       "3  1.721157e+09       Latter_Text4725  Eureka SQUARED 8th & 7th grade Slides   \n",
       "4  1.705602e+09  Reasonable_Cover3220                   Eureka Math Citation   \n",
       "\n",
       "                                                text  \\\n",
       "0  Has anyone taught Eureka math to 1st and 2nd g...   \n",
       "1  Not first and second but I did teach 3rd and 4...   \n",
       "2  Anyone using this? Specifically the 7/8 compac...   \n",
       "3  Hi there, \\n\\n  \\nThis is my 4th year teaching...   \n",
       "4  Hello! I am doing my EdTPA and i am wondering ...   \n",
       "\n",
       "                                                 url  \n",
       "0  https://www.reddit.com/r/Teachers/comments/1er...  \n",
       "1  /r/Teachers/comments/1erm9cz/eureka_math_for_c...  \n",
       "2  https://www.reddit.com/r/Teachers/comments/1bi...  \n",
       "3  https://www.reddit.com/r/Teachers/comments/1e4...  \n",
       "4  https://www.reddit.com/r/Teachers/comments/199...  "
      ]
     },
     "execution_count": 9,
     "metadata": {},
     "output_type": "execute_result"
    }
   ],
   "source": [
    "df.head()"
   ]
  },
  {
   "cell_type": "code",
   "execution_count": 10,
   "id": "21254e07-0fe1-4271-8277-77b8ec60bd60",
   "metadata": {},
   "outputs": [
    {
     "data": {
      "text/html": [
       "<div>\n",
       "<style scoped>\n",
       "    .dataframe tbody tr th:only-of-type {\n",
       "        vertical-align: middle;\n",
       "    }\n",
       "\n",
       "    .dataframe tbody tr th {\n",
       "        vertical-align: top;\n",
       "    }\n",
       "\n",
       "    .dataframe thead th {\n",
       "        text-align: right;\n",
       "    }\n",
       "</style>\n",
       "<table border=\"1\" class=\"dataframe\">\n",
       "  <thead>\n",
       "    <tr style=\"text-align: right;\">\n",
       "      <th></th>\n",
       "      <th>date</th>\n",
       "      <th>author</th>\n",
       "      <th>title</th>\n",
       "      <th>text</th>\n",
       "      <th>url</th>\n",
       "    </tr>\n",
       "  </thead>\n",
       "  <tbody>\n",
       "    <tr>\n",
       "      <th>0</th>\n",
       "      <td>2024-08-13 23:24:56</td>\n",
       "      <td>Expert_Midnight_7677</td>\n",
       "      <td>Eureka math for combo class?</td>\n",
       "      <td>Has anyone taught Eureka math to 1st and 2nd g...</td>\n",
       "      <td>https://www.reddit.com/r/Teachers/comments/1er...</td>\n",
       "    </tr>\n",
       "    <tr>\n",
       "      <th>1</th>\n",
       "      <td>2024-08-14 01:27:39</td>\n",
       "      <td>Tiredanddontcare</td>\n",
       "      <td>comment</td>\n",
       "      <td>Not first and second but I did teach 3rd and 4...</td>\n",
       "      <td>/r/Teachers/comments/1erm9cz/eureka_math_for_c...</td>\n",
       "    </tr>\n",
       "    <tr>\n",
       "      <th>2</th>\n",
       "      <td>2024-03-19 01:06:58</td>\n",
       "      <td>maaximo</td>\n",
       "      <td>Eureka squared</td>\n",
       "      <td>Anyone using this? Specifically the 7/8 compac...</td>\n",
       "      <td>https://www.reddit.com/r/Teachers/comments/1bi...</td>\n",
       "    </tr>\n",
       "    <tr>\n",
       "      <th>3</th>\n",
       "      <td>2024-07-16 19:10:48</td>\n",
       "      <td>Latter_Text4725</td>\n",
       "      <td>Eureka SQUARED 8th &amp; 7th grade Slides</td>\n",
       "      <td>Hi there, \\n\\n  \\nThis is my 4th year teaching...</td>\n",
       "      <td>https://www.reddit.com/r/Teachers/comments/1e4...</td>\n",
       "    </tr>\n",
       "    <tr>\n",
       "      <th>4</th>\n",
       "      <td>2024-01-18 18:27:28</td>\n",
       "      <td>Reasonable_Cover3220</td>\n",
       "      <td>Eureka Math Citation</td>\n",
       "      <td>Hello! I am doing my EdTPA and i am wondering ...</td>\n",
       "      <td>https://www.reddit.com/r/Teachers/comments/199...</td>\n",
       "    </tr>\n",
       "    <tr>\n",
       "      <th>...</th>\n",
       "      <td>...</td>\n",
       "      <td>...</td>\n",
       "      <td>...</td>\n",
       "      <td>...</td>\n",
       "      <td>...</td>\n",
       "    </tr>\n",
       "    <tr>\n",
       "      <th>1485</th>\n",
       "      <td>2022-07-28 05:21:49</td>\n",
       "      <td>Birdsongbee</td>\n",
       "      <td>reply</td>\n",
       "      <td>The new one actually is! The word problems are...</td>\n",
       "      <td>/r/Teachers/comments/w9m0ur/if_you_could_pick_...</td>\n",
       "    </tr>\n",
       "    <tr>\n",
       "      <th>1486</th>\n",
       "      <td>2022-07-28 02:36:16</td>\n",
       "      <td>Dls1989</td>\n",
       "      <td>comment</td>\n",
       "      <td>From what I have experience, math in focus was...</td>\n",
       "      <td>/r/Teachers/comments/w9m0ur/if_you_could_pick_...</td>\n",
       "    </tr>\n",
       "    <tr>\n",
       "      <th>1487</th>\n",
       "      <td>2022-07-27 20:57:46</td>\n",
       "      <td>ownersequity</td>\n",
       "      <td>comment</td>\n",
       "      <td>The dollar sign! As soon as I make problems ab...</td>\n",
       "      <td>/r/Teachers/comments/w9m0ur/if_you_could_pick_...</td>\n",
       "    </tr>\n",
       "    <tr>\n",
       "      <th>1488</th>\n",
       "      <td>2022-07-28 05:00:58</td>\n",
       "      <td>csplonk</td>\n",
       "      <td>comment</td>\n",
       "      <td>ST math is awesome for ELL’s. All puzzle based...</td>\n",
       "      <td>/r/Teachers/comments/w9m0ur/if_you_could_pick_...</td>\n",
       "    </tr>\n",
       "    <tr>\n",
       "      <th>1489</th>\n",
       "      <td>2022-07-28 05:43:45</td>\n",
       "      <td>VectorVictor424</td>\n",
       "      <td>comment</td>\n",
       "      <td>Art of Problem Solving</td>\n",
       "      <td>/r/Teachers/comments/w9m0ur/if_you_could_pick_...</td>\n",
       "    </tr>\n",
       "  </tbody>\n",
       "</table>\n",
       "<p>1490 rows × 5 columns</p>\n",
       "</div>"
      ],
      "text/plain": [
       "                    date                author  \\\n",
       "0    2024-08-13 23:24:56  Expert_Midnight_7677   \n",
       "1    2024-08-14 01:27:39      Tiredanddontcare   \n",
       "2    2024-03-19 01:06:58               maaximo   \n",
       "3    2024-07-16 19:10:48       Latter_Text4725   \n",
       "4    2024-01-18 18:27:28  Reasonable_Cover3220   \n",
       "...                  ...                   ...   \n",
       "1485 2022-07-28 05:21:49           Birdsongbee   \n",
       "1486 2022-07-28 02:36:16               Dls1989   \n",
       "1487 2022-07-27 20:57:46          ownersequity   \n",
       "1488 2022-07-28 05:00:58               csplonk   \n",
       "1489 2022-07-28 05:43:45       VectorVictor424   \n",
       "\n",
       "                                      title  \\\n",
       "0             Eureka math for combo class?    \n",
       "1                                   comment   \n",
       "2                           Eureka squared    \n",
       "3     Eureka SQUARED 8th & 7th grade Slides   \n",
       "4                      Eureka Math Citation   \n",
       "...                                     ...   \n",
       "1485                                  reply   \n",
       "1486                                comment   \n",
       "1487                                comment   \n",
       "1488                                comment   \n",
       "1489                                comment   \n",
       "\n",
       "                                                   text  \\\n",
       "0     Has anyone taught Eureka math to 1st and 2nd g...   \n",
       "1     Not first and second but I did teach 3rd and 4...   \n",
       "2     Anyone using this? Specifically the 7/8 compac...   \n",
       "3     Hi there, \\n\\n  \\nThis is my 4th year teaching...   \n",
       "4     Hello! I am doing my EdTPA and i am wondering ...   \n",
       "...                                                 ...   \n",
       "1485  The new one actually is! The word problems are...   \n",
       "1486  From what I have experience, math in focus was...   \n",
       "1487  The dollar sign! As soon as I make problems ab...   \n",
       "1488  ST math is awesome for ELL’s. All puzzle based...   \n",
       "1489                             Art of Problem Solving   \n",
       "\n",
       "                                                    url  \n",
       "0     https://www.reddit.com/r/Teachers/comments/1er...  \n",
       "1     /r/Teachers/comments/1erm9cz/eureka_math_for_c...  \n",
       "2     https://www.reddit.com/r/Teachers/comments/1bi...  \n",
       "3     https://www.reddit.com/r/Teachers/comments/1e4...  \n",
       "4     https://www.reddit.com/r/Teachers/comments/199...  \n",
       "...                                                 ...  \n",
       "1485  /r/Teachers/comments/w9m0ur/if_you_could_pick_...  \n",
       "1486  /r/Teachers/comments/w9m0ur/if_you_could_pick_...  \n",
       "1487  /r/Teachers/comments/w9m0ur/if_you_could_pick_...  \n",
       "1488  /r/Teachers/comments/w9m0ur/if_you_could_pick_...  \n",
       "1489  /r/Teachers/comments/w9m0ur/if_you_could_pick_...  \n",
       "\n",
       "[1490 rows x 5 columns]"
      ]
     },
     "execution_count": 10,
     "metadata": {},
     "output_type": "execute_result"
    }
   ],
   "source": [
    "#Convert Epoch time to DateTime\n",
    "df['date'] = pd.to_datetime(df['date'], unit='s')\n",
    "df"
   ]
  },
  {
   "cell_type": "markdown",
   "id": "ae859690-7cd0-4134-8e0d-2a835f31b88f",
   "metadata": {},
   "source": [
    "### Preprocess Reviews for Sentiment Analysis with NLTK"
   ]
  },
  {
   "cell_type": "code",
   "execution_count": 11,
   "id": "3c1f0e48-9383-436c-b883-28a8cf56877a",
   "metadata": {},
   "outputs": [],
   "source": [
    "#Create function to preprocess reviews\n",
    "def preprocess_text(text):\n",
    "\n",
    "    #convert all words to lower case\n",
    "    tokens = word_tokenize(text.lower()) \n",
    "    \n",
    "    #tokenize\n",
    "    filtered_tokens = []\n",
    "    for token in tokens: \n",
    "        if token not in stopwords.words('english') and token.isalnum():\n",
    "            filtered_tokens.append(token)\n",
    "    \n",
    "    #lemmatize\n",
    "    lemmatizer = WordNetLemmatizer()\n",
    "    lemmatized_tokens = []\n",
    "    for token in filtered_tokens:\n",
    "        lemmatized_tokens.append(lemmatizer.lemmatize(token))\n",
    "    \n",
    "    #compile processed text\n",
    "    processed_text = ' '.join(lemmatized_tokens)\n",
    "\n",
    "    return processed_text"
   ]
  },
  {
   "cell_type": "code",
   "execution_count": 12,
   "id": "68597aa0-651f-4ab9-9b55-65ff36630f4f",
   "metadata": {},
   "outputs": [],
   "source": [
    "#Apply function to reviews\n",
    "df['reviewedText'] = df['text'].apply(preprocess_text)"
   ]
  },
  {
   "cell_type": "code",
   "execution_count": 13,
   "id": "7e732c87-473a-4c72-a85d-f447a15bebf5",
   "metadata": {},
   "outputs": [],
   "source": [
    "#Identify which reviews explicitly or implicitly refer to Eureka    \n",
    "def explicit(df):\n",
    "    if 'eureka' in df:\n",
    "        return ('yes')\n",
    "    else:\n",
    "        return ('no') "
   ]
  },
  {
   "cell_type": "code",
   "execution_count": 14,
   "id": "a340f206-1e74-4f69-ae12-db3fed7f3f0f",
   "metadata": {},
   "outputs": [],
   "source": [
    "df['explicit'] = df['reviewedText'].apply(explicit)"
   ]
  },
  {
   "cell_type": "code",
   "execution_count": 15,
   "id": "0c29dcc9-2570-4e3b-b584-96ac9b9e84d9",
   "metadata": {},
   "outputs": [
    {
     "data": {
      "text/html": [
       "<div>\n",
       "<style scoped>\n",
       "    .dataframe tbody tr th:only-of-type {\n",
       "        vertical-align: middle;\n",
       "    }\n",
       "\n",
       "    .dataframe tbody tr th {\n",
       "        vertical-align: top;\n",
       "    }\n",
       "\n",
       "    .dataframe thead th {\n",
       "        text-align: right;\n",
       "    }\n",
       "</style>\n",
       "<table border=\"1\" class=\"dataframe\">\n",
       "  <thead>\n",
       "    <tr style=\"text-align: right;\">\n",
       "      <th></th>\n",
       "      <th>date</th>\n",
       "      <th>author</th>\n",
       "      <th>title</th>\n",
       "      <th>text</th>\n",
       "      <th>url</th>\n",
       "      <th>reviewedText</th>\n",
       "      <th>explicit</th>\n",
       "    </tr>\n",
       "  </thead>\n",
       "  <tbody>\n",
       "    <tr>\n",
       "      <th>0</th>\n",
       "      <td>2024-08-13 23:24:56</td>\n",
       "      <td>Expert_Midnight_7677</td>\n",
       "      <td>Eureka math for combo class?</td>\n",
       "      <td>Has anyone taught Eureka math to 1st and 2nd g...</td>\n",
       "      <td>https://www.reddit.com/r/Teachers/comments/1er...</td>\n",
       "      <td>anyone taught eureka math 1st 2nd grade togeth...</td>\n",
       "      <td>yes</td>\n",
       "    </tr>\n",
       "    <tr>\n",
       "      <th>1</th>\n",
       "      <td>2024-08-14 01:27:39</td>\n",
       "      <td>Tiredanddontcare</td>\n",
       "      <td>comment</td>\n",
       "      <td>Not first and second but I did teach 3rd and 4...</td>\n",
       "      <td>/r/Teachers/comments/1erm9cz/eureka_math_for_c...</td>\n",
       "      <td>first second teach 3rd 4th together able use z...</td>\n",
       "      <td>yes</td>\n",
       "    </tr>\n",
       "    <tr>\n",
       "      <th>2</th>\n",
       "      <td>2024-03-19 01:06:58</td>\n",
       "      <td>maaximo</td>\n",
       "      <td>Eureka squared</td>\n",
       "      <td>Anyone using this? Specifically the 7/8 compac...</td>\n",
       "      <td>https://www.reddit.com/r/Teachers/comments/1bi...</td>\n",
       "      <td>anyone using specifically compacted curriculum...</td>\n",
       "      <td>no</td>\n",
       "    </tr>\n",
       "    <tr>\n",
       "      <th>3</th>\n",
       "      <td>2024-07-16 19:10:48</td>\n",
       "      <td>Latter_Text4725</td>\n",
       "      <td>Eureka SQUARED 8th &amp; 7th grade Slides</td>\n",
       "      <td>Hi there, \\n\\n  \\nThis is my 4th year teaching...</td>\n",
       "      <td>https://www.reddit.com/r/Teachers/comments/1e4...</td>\n",
       "      <td>hi 4th year teaching 4th new curriculum wooo s...</td>\n",
       "      <td>yes</td>\n",
       "    </tr>\n",
       "    <tr>\n",
       "      <th>4</th>\n",
       "      <td>2024-01-18 18:27:28</td>\n",
       "      <td>Reasonable_Cover3220</td>\n",
       "      <td>Eureka Math Citation</td>\n",
       "      <td>Hello! I am doing my EdTPA and i am wondering ...</td>\n",
       "      <td>https://www.reddit.com/r/Teachers/comments/199...</td>\n",
       "      <td>hello edtpa wondering cite eureka math grade f...</td>\n",
       "      <td>yes</td>\n",
       "    </tr>\n",
       "  </tbody>\n",
       "</table>\n",
       "</div>"
      ],
      "text/plain": [
       "                 date                author  \\\n",
       "0 2024-08-13 23:24:56  Expert_Midnight_7677   \n",
       "1 2024-08-14 01:27:39      Tiredanddontcare   \n",
       "2 2024-03-19 01:06:58               maaximo   \n",
       "3 2024-07-16 19:10:48       Latter_Text4725   \n",
       "4 2024-01-18 18:27:28  Reasonable_Cover3220   \n",
       "\n",
       "                                   title  \\\n",
       "0          Eureka math for combo class?    \n",
       "1                                comment   \n",
       "2                        Eureka squared    \n",
       "3  Eureka SQUARED 8th & 7th grade Slides   \n",
       "4                   Eureka Math Citation   \n",
       "\n",
       "                                                text  \\\n",
       "0  Has anyone taught Eureka math to 1st and 2nd g...   \n",
       "1  Not first and second but I did teach 3rd and 4...   \n",
       "2  Anyone using this? Specifically the 7/8 compac...   \n",
       "3  Hi there, \\n\\n  \\nThis is my 4th year teaching...   \n",
       "4  Hello! I am doing my EdTPA and i am wondering ...   \n",
       "\n",
       "                                                 url  \\\n",
       "0  https://www.reddit.com/r/Teachers/comments/1er...   \n",
       "1  /r/Teachers/comments/1erm9cz/eureka_math_for_c...   \n",
       "2  https://www.reddit.com/r/Teachers/comments/1bi...   \n",
       "3  https://www.reddit.com/r/Teachers/comments/1e4...   \n",
       "4  https://www.reddit.com/r/Teachers/comments/199...   \n",
       "\n",
       "                                        reviewedText explicit  \n",
       "0  anyone taught eureka math 1st 2nd grade togeth...      yes  \n",
       "1  first second teach 3rd 4th together able use z...      yes  \n",
       "2  anyone using specifically compacted curriculum...       no  \n",
       "3  hi 4th year teaching 4th new curriculum wooo s...      yes  \n",
       "4  hello edtpa wondering cite eureka math grade f...      yes  "
      ]
     },
     "execution_count": 15,
     "metadata": {},
     "output_type": "execute_result"
    }
   ],
   "source": [
    "df.head()"
   ]
  },
  {
   "cell_type": "code",
   "execution_count": 16,
   "id": "5d2140e5-84fa-450f-aaa3-5acfc494518c",
   "metadata": {},
   "outputs": [
    {
     "data": {
      "text/plain": [
       "explicit\n",
       "no     1350\n",
       "yes     140\n",
       "Name: count, dtype: int64"
      ]
     },
     "execution_count": 16,
     "metadata": {},
     "output_type": "execute_result"
    }
   ],
   "source": [
    "df['explicit'].value_counts()"
   ]
  },
  {
   "cell_type": "code",
   "execution_count": 17,
   "id": "173fb399-ff3a-419b-aa5d-374fbd7626c0",
   "metadata": {},
   "outputs": [
    {
     "data": {
      "text/plain": [
       "1490"
      ]
     },
     "execution_count": 17,
     "metadata": {},
     "output_type": "execute_result"
    }
   ],
   "source": [
    "len(df)"
   ]
  },
  {
   "cell_type": "code",
   "execution_count": 18,
   "id": "f0545be3-446a-48c8-a626-1b8708fdc2ca",
   "metadata": {},
   "outputs": [
    {
     "data": {
      "text/plain": [
       "'Not first and second but I did teach 3rd and 4th together. We were able to use Zearn math which was just Eureka math in a digital format. You can look into that if you have devices at your disposal.'"
      ]
     },
     "execution_count": 18,
     "metadata": {},
     "output_type": "execute_result"
    }
   ],
   "source": [
    "df['text'][1]"
   ]
  },
  {
   "cell_type": "code",
   "execution_count": 19,
   "id": "b65f84d6-fe51-4fec-9117-b0f9de0133a2",
   "metadata": {},
   "outputs": [
    {
     "data": {
      "text/plain": [
       "'first second teach 3rd 4th together able use zearn math eureka math digital format look device disposal'"
      ]
     },
     "execution_count": 19,
     "metadata": {},
     "output_type": "execute_result"
    }
   ],
   "source": [
    "df['reviewedText'][1]"
   ]
  },
  {
   "cell_type": "markdown",
   "id": "46c24baa-72e8-44fb-8aa0-1740504d95c7",
   "metadata": {},
   "source": [
    "### Sentiment Analyzer with NLTK \\\n",
    "Doc: https://github.com/cjhutto/vaderSentiment"
   ]
  },
  {
   "cell_type": "code",
   "execution_count": 20,
   "id": "c1bc6670-1c06-4599-8dce-d7dfed6f7885",
   "metadata": {},
   "outputs": [],
   "source": [
    "#Initiate Sentiment Analyzer instance\n",
    "analyzer = SentimentIntensityAnalyzer()"
   ]
  },
  {
   "cell_type": "code",
   "execution_count": 21,
   "id": "658fa5ec-9c9b-4d86-9b1f-7a94a70cb055",
   "metadata": {},
   "outputs": [],
   "source": [
    "def polarity_scores(text):\n",
    "    scores = []\n",
    "    \n",
    "    for sentence in text :\n",
    "        spread=analyzer.polarity_scores(sentence)\n",
    "        scores.append(spread)\n",
    "\n",
    "    return scores"
   ]
  },
  {
   "cell_type": "code",
   "execution_count": 22,
   "id": "740a02dc-9717-42c1-8800-430ccda9ccf4",
   "metadata": {},
   "outputs": [],
   "source": [
    "pscoresdf = pd.DataFrame(polarity_scores(df['reviewedText']))"
   ]
  },
  {
   "cell_type": "code",
   "execution_count": 23,
   "id": "8282d017-7665-4af7-b480-1ed09f6e7531",
   "metadata": {},
   "outputs": [
    {
     "data": {
      "text/html": [
       "<div>\n",
       "<style scoped>\n",
       "    .dataframe tbody tr th:only-of-type {\n",
       "        vertical-align: middle;\n",
       "    }\n",
       "\n",
       "    .dataframe tbody tr th {\n",
       "        vertical-align: top;\n",
       "    }\n",
       "\n",
       "    .dataframe thead th {\n",
       "        text-align: right;\n",
       "    }\n",
       "</style>\n",
       "<table border=\"1\" class=\"dataframe\">\n",
       "  <thead>\n",
       "    <tr style=\"text-align: right;\">\n",
       "      <th></th>\n",
       "      <th>neg</th>\n",
       "      <th>neu</th>\n",
       "      <th>pos</th>\n",
       "      <th>compound</th>\n",
       "    </tr>\n",
       "  </thead>\n",
       "  <tbody>\n",
       "    <tr>\n",
       "      <th>0</th>\n",
       "      <td>0.000</td>\n",
       "      <td>0.781</td>\n",
       "      <td>0.219</td>\n",
       "      <td>0.6369</td>\n",
       "    </tr>\n",
       "    <tr>\n",
       "      <th>1</th>\n",
       "      <td>0.000</td>\n",
       "      <td>1.000</td>\n",
       "      <td>0.000</td>\n",
       "      <td>0.0000</td>\n",
       "    </tr>\n",
       "    <tr>\n",
       "      <th>2</th>\n",
       "      <td>0.000</td>\n",
       "      <td>0.706</td>\n",
       "      <td>0.294</td>\n",
       "      <td>0.3612</td>\n",
       "    </tr>\n",
       "    <tr>\n",
       "      <th>3</th>\n",
       "      <td>0.045</td>\n",
       "      <td>0.882</td>\n",
       "      <td>0.073</td>\n",
       "      <td>0.1280</td>\n",
       "    </tr>\n",
       "    <tr>\n",
       "      <th>4</th>\n",
       "      <td>0.000</td>\n",
       "      <td>0.838</td>\n",
       "      <td>0.162</td>\n",
       "      <td>0.4019</td>\n",
       "    </tr>\n",
       "    <tr>\n",
       "      <th>...</th>\n",
       "      <td>...</td>\n",
       "      <td>...</td>\n",
       "      <td>...</td>\n",
       "      <td>...</td>\n",
       "    </tr>\n",
       "    <tr>\n",
       "      <th>1485</th>\n",
       "      <td>0.419</td>\n",
       "      <td>0.581</td>\n",
       "      <td>0.000</td>\n",
       "      <td>-0.8689</td>\n",
       "    </tr>\n",
       "    <tr>\n",
       "      <th>1486</th>\n",
       "      <td>0.294</td>\n",
       "      <td>0.532</td>\n",
       "      <td>0.174</td>\n",
       "      <td>-0.8779</td>\n",
       "    </tr>\n",
       "    <tr>\n",
       "      <th>1487</th>\n",
       "      <td>0.237</td>\n",
       "      <td>0.526</td>\n",
       "      <td>0.237</td>\n",
       "      <td>0.0000</td>\n",
       "    </tr>\n",
       "    <tr>\n",
       "      <th>1488</th>\n",
       "      <td>0.000</td>\n",
       "      <td>0.687</td>\n",
       "      <td>0.313</td>\n",
       "      <td>0.6249</td>\n",
       "    </tr>\n",
       "    <tr>\n",
       "      <th>1489</th>\n",
       "      <td>0.443</td>\n",
       "      <td>0.164</td>\n",
       "      <td>0.393</td>\n",
       "      <td>-0.0772</td>\n",
       "    </tr>\n",
       "  </tbody>\n",
       "</table>\n",
       "<p>1490 rows × 4 columns</p>\n",
       "</div>"
      ],
      "text/plain": [
       "        neg    neu    pos  compound\n",
       "0     0.000  0.781  0.219    0.6369\n",
       "1     0.000  1.000  0.000    0.0000\n",
       "2     0.000  0.706  0.294    0.3612\n",
       "3     0.045  0.882  0.073    0.1280\n",
       "4     0.000  0.838  0.162    0.4019\n",
       "...     ...    ...    ...       ...\n",
       "1485  0.419  0.581  0.000   -0.8689\n",
       "1486  0.294  0.532  0.174   -0.8779\n",
       "1487  0.237  0.526  0.237    0.0000\n",
       "1488  0.000  0.687  0.313    0.6249\n",
       "1489  0.443  0.164  0.393   -0.0772\n",
       "\n",
       "[1490 rows x 4 columns]"
      ]
     },
     "execution_count": 23,
     "metadata": {},
     "output_type": "execute_result"
    }
   ],
   "source": [
    "pscoresdf"
   ]
  },
  {
   "cell_type": "code",
   "execution_count": 24,
   "id": "7a0bf384-7778-4e57-8213-bebf02e84048",
   "metadata": {},
   "outputs": [],
   "source": [
    "df = df.join(pscoresdf)"
   ]
  },
  {
   "cell_type": "code",
   "execution_count": 25,
   "id": "be3fb3ae-90a4-4a0c-be30-e4e3062214b6",
   "metadata": {},
   "outputs": [
    {
     "data": {
      "text/html": [
       "<div>\n",
       "<style scoped>\n",
       "    .dataframe tbody tr th:only-of-type {\n",
       "        vertical-align: middle;\n",
       "    }\n",
       "\n",
       "    .dataframe tbody tr th {\n",
       "        vertical-align: top;\n",
       "    }\n",
       "\n",
       "    .dataframe thead th {\n",
       "        text-align: right;\n",
       "    }\n",
       "</style>\n",
       "<table border=\"1\" class=\"dataframe\">\n",
       "  <thead>\n",
       "    <tr style=\"text-align: right;\">\n",
       "      <th></th>\n",
       "      <th>date</th>\n",
       "      <th>author</th>\n",
       "      <th>title</th>\n",
       "      <th>text</th>\n",
       "      <th>url</th>\n",
       "      <th>reviewedText</th>\n",
       "      <th>explicit</th>\n",
       "      <th>neg</th>\n",
       "      <th>neu</th>\n",
       "      <th>pos</th>\n",
       "      <th>compound</th>\n",
       "    </tr>\n",
       "  </thead>\n",
       "  <tbody>\n",
       "    <tr>\n",
       "      <th>0</th>\n",
       "      <td>2024-08-13 23:24:56</td>\n",
       "      <td>Expert_Midnight_7677</td>\n",
       "      <td>Eureka math for combo class?</td>\n",
       "      <td>Has anyone taught Eureka math to 1st and 2nd g...</td>\n",
       "      <td>https://www.reddit.com/r/Teachers/comments/1er...</td>\n",
       "      <td>anyone taught eureka math 1st 2nd grade togeth...</td>\n",
       "      <td>yes</td>\n",
       "      <td>0.000</td>\n",
       "      <td>0.781</td>\n",
       "      <td>0.219</td>\n",
       "      <td>0.6369</td>\n",
       "    </tr>\n",
       "    <tr>\n",
       "      <th>1</th>\n",
       "      <td>2024-08-14 01:27:39</td>\n",
       "      <td>Tiredanddontcare</td>\n",
       "      <td>comment</td>\n",
       "      <td>Not first and second but I did teach 3rd and 4...</td>\n",
       "      <td>/r/Teachers/comments/1erm9cz/eureka_math_for_c...</td>\n",
       "      <td>first second teach 3rd 4th together able use z...</td>\n",
       "      <td>yes</td>\n",
       "      <td>0.000</td>\n",
       "      <td>1.000</td>\n",
       "      <td>0.000</td>\n",
       "      <td>0.0000</td>\n",
       "    </tr>\n",
       "    <tr>\n",
       "      <th>2</th>\n",
       "      <td>2024-03-19 01:06:58</td>\n",
       "      <td>maaximo</td>\n",
       "      <td>Eureka squared</td>\n",
       "      <td>Anyone using this? Specifically the 7/8 compac...</td>\n",
       "      <td>https://www.reddit.com/r/Teachers/comments/1bi...</td>\n",
       "      <td>anyone using specifically compacted curriculum...</td>\n",
       "      <td>no</td>\n",
       "      <td>0.000</td>\n",
       "      <td>0.706</td>\n",
       "      <td>0.294</td>\n",
       "      <td>0.3612</td>\n",
       "    </tr>\n",
       "    <tr>\n",
       "      <th>3</th>\n",
       "      <td>2024-07-16 19:10:48</td>\n",
       "      <td>Latter_Text4725</td>\n",
       "      <td>Eureka SQUARED 8th &amp; 7th grade Slides</td>\n",
       "      <td>Hi there, \\n\\n  \\nThis is my 4th year teaching...</td>\n",
       "      <td>https://www.reddit.com/r/Teachers/comments/1e4...</td>\n",
       "      <td>hi 4th year teaching 4th new curriculum wooo s...</td>\n",
       "      <td>yes</td>\n",
       "      <td>0.045</td>\n",
       "      <td>0.882</td>\n",
       "      <td>0.073</td>\n",
       "      <td>0.1280</td>\n",
       "    </tr>\n",
       "    <tr>\n",
       "      <th>4</th>\n",
       "      <td>2024-01-18 18:27:28</td>\n",
       "      <td>Reasonable_Cover3220</td>\n",
       "      <td>Eureka Math Citation</td>\n",
       "      <td>Hello! I am doing my EdTPA and i am wondering ...</td>\n",
       "      <td>https://www.reddit.com/r/Teachers/comments/199...</td>\n",
       "      <td>hello edtpa wondering cite eureka math grade f...</td>\n",
       "      <td>yes</td>\n",
       "      <td>0.000</td>\n",
       "      <td>0.838</td>\n",
       "      <td>0.162</td>\n",
       "      <td>0.4019</td>\n",
       "    </tr>\n",
       "    <tr>\n",
       "      <th>...</th>\n",
       "      <td>...</td>\n",
       "      <td>...</td>\n",
       "      <td>...</td>\n",
       "      <td>...</td>\n",
       "      <td>...</td>\n",
       "      <td>...</td>\n",
       "      <td>...</td>\n",
       "      <td>...</td>\n",
       "      <td>...</td>\n",
       "      <td>...</td>\n",
       "      <td>...</td>\n",
       "    </tr>\n",
       "    <tr>\n",
       "      <th>1485</th>\n",
       "      <td>2022-07-28 05:21:49</td>\n",
       "      <td>Birdsongbee</td>\n",
       "      <td>reply</td>\n",
       "      <td>The new one actually is! The word problems are...</td>\n",
       "      <td>/r/Teachers/comments/w9m0ur/if_you_could_pick_...</td>\n",
       "      <td>new one actually word problem much decodable p...</td>\n",
       "      <td>no</td>\n",
       "      <td>0.419</td>\n",
       "      <td>0.581</td>\n",
       "      <td>0.000</td>\n",
       "      <td>-0.8689</td>\n",
       "    </tr>\n",
       "    <tr>\n",
       "      <th>1486</th>\n",
       "      <td>2022-07-28 02:36:16</td>\n",
       "      <td>Dls1989</td>\n",
       "      <td>comment</td>\n",
       "      <td>From what I have experience, math in focus was...</td>\n",
       "      <td>/r/Teachers/comments/w9m0ur/if_you_could_pick_...</td>\n",
       "      <td>experience math focus absolute worst honestly ...</td>\n",
       "      <td>no</td>\n",
       "      <td>0.294</td>\n",
       "      <td>0.532</td>\n",
       "      <td>0.174</td>\n",
       "      <td>-0.8779</td>\n",
       "    </tr>\n",
       "    <tr>\n",
       "      <th>1487</th>\n",
       "      <td>2022-07-27 20:57:46</td>\n",
       "      <td>ownersequity</td>\n",
       "      <td>comment</td>\n",
       "      <td>The dollar sign! As soon as I make problems ab...</td>\n",
       "      <td>/r/Teachers/comments/w9m0ur/if_you_could_pick_...</td>\n",
       "      <td>dollar sign soon make problem money student in...</td>\n",
       "      <td>no</td>\n",
       "      <td>0.237</td>\n",
       "      <td>0.526</td>\n",
       "      <td>0.237</td>\n",
       "      <td>0.0000</td>\n",
       "    </tr>\n",
       "    <tr>\n",
       "      <th>1488</th>\n",
       "      <td>2022-07-28 05:00:58</td>\n",
       "      <td>csplonk</td>\n",
       "      <td>comment</td>\n",
       "      <td>ST math is awesome for ELL’s. All puzzle based...</td>\n",
       "      <td>/r/Teachers/comments/w9m0ur/if_you_could_pick_...</td>\n",
       "      <td>st math awesome ell puzzle based logic math co...</td>\n",
       "      <td>no</td>\n",
       "      <td>0.000</td>\n",
       "      <td>0.687</td>\n",
       "      <td>0.313</td>\n",
       "      <td>0.6249</td>\n",
       "    </tr>\n",
       "    <tr>\n",
       "      <th>1489</th>\n",
       "      <td>2022-07-28 05:43:45</td>\n",
       "      <td>VectorVictor424</td>\n",
       "      <td>comment</td>\n",
       "      <td>Art of Problem Solving</td>\n",
       "      <td>/r/Teachers/comments/w9m0ur/if_you_could_pick_...</td>\n",
       "      <td>art problem solving</td>\n",
       "      <td>no</td>\n",
       "      <td>0.443</td>\n",
       "      <td>0.164</td>\n",
       "      <td>0.393</td>\n",
       "      <td>-0.0772</td>\n",
       "    </tr>\n",
       "  </tbody>\n",
       "</table>\n",
       "<p>1490 rows × 11 columns</p>\n",
       "</div>"
      ],
      "text/plain": [
       "                    date                author  \\\n",
       "0    2024-08-13 23:24:56  Expert_Midnight_7677   \n",
       "1    2024-08-14 01:27:39      Tiredanddontcare   \n",
       "2    2024-03-19 01:06:58               maaximo   \n",
       "3    2024-07-16 19:10:48       Latter_Text4725   \n",
       "4    2024-01-18 18:27:28  Reasonable_Cover3220   \n",
       "...                  ...                   ...   \n",
       "1485 2022-07-28 05:21:49           Birdsongbee   \n",
       "1486 2022-07-28 02:36:16               Dls1989   \n",
       "1487 2022-07-27 20:57:46          ownersequity   \n",
       "1488 2022-07-28 05:00:58               csplonk   \n",
       "1489 2022-07-28 05:43:45       VectorVictor424   \n",
       "\n",
       "                                      title  \\\n",
       "0             Eureka math for combo class?    \n",
       "1                                   comment   \n",
       "2                           Eureka squared    \n",
       "3     Eureka SQUARED 8th & 7th grade Slides   \n",
       "4                      Eureka Math Citation   \n",
       "...                                     ...   \n",
       "1485                                  reply   \n",
       "1486                                comment   \n",
       "1487                                comment   \n",
       "1488                                comment   \n",
       "1489                                comment   \n",
       "\n",
       "                                                   text  \\\n",
       "0     Has anyone taught Eureka math to 1st and 2nd g...   \n",
       "1     Not first and second but I did teach 3rd and 4...   \n",
       "2     Anyone using this? Specifically the 7/8 compac...   \n",
       "3     Hi there, \\n\\n  \\nThis is my 4th year teaching...   \n",
       "4     Hello! I am doing my EdTPA and i am wondering ...   \n",
       "...                                                 ...   \n",
       "1485  The new one actually is! The word problems are...   \n",
       "1486  From what I have experience, math in focus was...   \n",
       "1487  The dollar sign! As soon as I make problems ab...   \n",
       "1488  ST math is awesome for ELL’s. All puzzle based...   \n",
       "1489                             Art of Problem Solving   \n",
       "\n",
       "                                                    url  \\\n",
       "0     https://www.reddit.com/r/Teachers/comments/1er...   \n",
       "1     /r/Teachers/comments/1erm9cz/eureka_math_for_c...   \n",
       "2     https://www.reddit.com/r/Teachers/comments/1bi...   \n",
       "3     https://www.reddit.com/r/Teachers/comments/1e4...   \n",
       "4     https://www.reddit.com/r/Teachers/comments/199...   \n",
       "...                                                 ...   \n",
       "1485  /r/Teachers/comments/w9m0ur/if_you_could_pick_...   \n",
       "1486  /r/Teachers/comments/w9m0ur/if_you_could_pick_...   \n",
       "1487  /r/Teachers/comments/w9m0ur/if_you_could_pick_...   \n",
       "1488  /r/Teachers/comments/w9m0ur/if_you_could_pick_...   \n",
       "1489  /r/Teachers/comments/w9m0ur/if_you_could_pick_...   \n",
       "\n",
       "                                           reviewedText explicit    neg  \\\n",
       "0     anyone taught eureka math 1st 2nd grade togeth...      yes  0.000   \n",
       "1     first second teach 3rd 4th together able use z...      yes  0.000   \n",
       "2     anyone using specifically compacted curriculum...       no  0.000   \n",
       "3     hi 4th year teaching 4th new curriculum wooo s...      yes  0.045   \n",
       "4     hello edtpa wondering cite eureka math grade f...      yes  0.000   \n",
       "...                                                 ...      ...    ...   \n",
       "1485  new one actually word problem much decodable p...       no  0.419   \n",
       "1486  experience math focus absolute worst honestly ...       no  0.294   \n",
       "1487  dollar sign soon make problem money student in...       no  0.237   \n",
       "1488  st math awesome ell puzzle based logic math co...       no  0.000   \n",
       "1489                                art problem solving       no  0.443   \n",
       "\n",
       "        neu    pos  compound  \n",
       "0     0.781  0.219    0.6369  \n",
       "1     1.000  0.000    0.0000  \n",
       "2     0.706  0.294    0.3612  \n",
       "3     0.882  0.073    0.1280  \n",
       "4     0.838  0.162    0.4019  \n",
       "...     ...    ...       ...  \n",
       "1485  0.581  0.000   -0.8689  \n",
       "1486  0.532  0.174   -0.8779  \n",
       "1487  0.526  0.237    0.0000  \n",
       "1488  0.687  0.313    0.6249  \n",
       "1489  0.164  0.393   -0.0772  \n",
       "\n",
       "[1490 rows x 11 columns]"
      ]
     },
     "execution_count": 25,
     "metadata": {},
     "output_type": "execute_result"
    }
   ],
   "source": [
    "df"
   ]
  },
  {
   "cell_type": "code",
   "execution_count": 26,
   "id": "a7e7b462-7766-4ff0-b464-63ac9efad3b6",
   "metadata": {},
   "outputs": [],
   "source": [
    "#Gauge Sentiment\n",
    "def sentiment(val):\n",
    "    if val >= 0.05:\n",
    "        return 'positive'\n",
    "    elif val > -0.05 and val < 0.05:\n",
    "        return 'neutral'\n",
    "    elif val <= -0.05:\n",
    "        return 'negative'"
   ]
  },
  {
   "cell_type": "code",
   "execution_count": 27,
   "id": "87564505-1ff7-480c-b14a-decc8464f45b",
   "metadata": {},
   "outputs": [],
   "source": [
    "#Apply Sentiment Function to Categorize Compound Scores\n",
    "df['sentiment'] = df['compound'].apply(lambda val: sentiment(val))"
   ]
  },
  {
   "cell_type": "code",
   "execution_count": 28,
   "id": "9c759705-8032-4a1f-a547-b642c13e23a1",
   "metadata": {},
   "outputs": [
    {
     "data": {
      "text/html": [
       "<div>\n",
       "<style scoped>\n",
       "    .dataframe tbody tr th:only-of-type {\n",
       "        vertical-align: middle;\n",
       "    }\n",
       "\n",
       "    .dataframe tbody tr th {\n",
       "        vertical-align: top;\n",
       "    }\n",
       "\n",
       "    .dataframe thead th {\n",
       "        text-align: right;\n",
       "    }\n",
       "</style>\n",
       "<table border=\"1\" class=\"dataframe\">\n",
       "  <thead>\n",
       "    <tr style=\"text-align: right;\">\n",
       "      <th></th>\n",
       "      <th>date</th>\n",
       "      <th>author</th>\n",
       "      <th>title</th>\n",
       "      <th>text</th>\n",
       "      <th>url</th>\n",
       "      <th>reviewedText</th>\n",
       "      <th>explicit</th>\n",
       "      <th>neg</th>\n",
       "      <th>neu</th>\n",
       "      <th>pos</th>\n",
       "      <th>compound</th>\n",
       "      <th>sentiment</th>\n",
       "    </tr>\n",
       "  </thead>\n",
       "  <tbody>\n",
       "    <tr>\n",
       "      <th>0</th>\n",
       "      <td>2024-08-13 23:24:56</td>\n",
       "      <td>Expert_Midnight_7677</td>\n",
       "      <td>Eureka math for combo class?</td>\n",
       "      <td>Has anyone taught Eureka math to 1st and 2nd g...</td>\n",
       "      <td>https://www.reddit.com/r/Teachers/comments/1er...</td>\n",
       "      <td>anyone taught eureka math 1st 2nd grade togeth...</td>\n",
       "      <td>yes</td>\n",
       "      <td>0.000</td>\n",
       "      <td>0.781</td>\n",
       "      <td>0.219</td>\n",
       "      <td>0.6369</td>\n",
       "      <td>positive</td>\n",
       "    </tr>\n",
       "    <tr>\n",
       "      <th>1</th>\n",
       "      <td>2024-08-14 01:27:39</td>\n",
       "      <td>Tiredanddontcare</td>\n",
       "      <td>comment</td>\n",
       "      <td>Not first and second but I did teach 3rd and 4...</td>\n",
       "      <td>/r/Teachers/comments/1erm9cz/eureka_math_for_c...</td>\n",
       "      <td>first second teach 3rd 4th together able use z...</td>\n",
       "      <td>yes</td>\n",
       "      <td>0.000</td>\n",
       "      <td>1.000</td>\n",
       "      <td>0.000</td>\n",
       "      <td>0.0000</td>\n",
       "      <td>neutral</td>\n",
       "    </tr>\n",
       "    <tr>\n",
       "      <th>2</th>\n",
       "      <td>2024-03-19 01:06:58</td>\n",
       "      <td>maaximo</td>\n",
       "      <td>Eureka squared</td>\n",
       "      <td>Anyone using this? Specifically the 7/8 compac...</td>\n",
       "      <td>https://www.reddit.com/r/Teachers/comments/1bi...</td>\n",
       "      <td>anyone using specifically compacted curriculum...</td>\n",
       "      <td>no</td>\n",
       "      <td>0.000</td>\n",
       "      <td>0.706</td>\n",
       "      <td>0.294</td>\n",
       "      <td>0.3612</td>\n",
       "      <td>positive</td>\n",
       "    </tr>\n",
       "    <tr>\n",
       "      <th>3</th>\n",
       "      <td>2024-07-16 19:10:48</td>\n",
       "      <td>Latter_Text4725</td>\n",
       "      <td>Eureka SQUARED 8th &amp; 7th grade Slides</td>\n",
       "      <td>Hi there, \\n\\n  \\nThis is my 4th year teaching...</td>\n",
       "      <td>https://www.reddit.com/r/Teachers/comments/1e4...</td>\n",
       "      <td>hi 4th year teaching 4th new curriculum wooo s...</td>\n",
       "      <td>yes</td>\n",
       "      <td>0.045</td>\n",
       "      <td>0.882</td>\n",
       "      <td>0.073</td>\n",
       "      <td>0.1280</td>\n",
       "      <td>positive</td>\n",
       "    </tr>\n",
       "    <tr>\n",
       "      <th>4</th>\n",
       "      <td>2024-01-18 18:27:28</td>\n",
       "      <td>Reasonable_Cover3220</td>\n",
       "      <td>Eureka Math Citation</td>\n",
       "      <td>Hello! I am doing my EdTPA and i am wondering ...</td>\n",
       "      <td>https://www.reddit.com/r/Teachers/comments/199...</td>\n",
       "      <td>hello edtpa wondering cite eureka math grade f...</td>\n",
       "      <td>yes</td>\n",
       "      <td>0.000</td>\n",
       "      <td>0.838</td>\n",
       "      <td>0.162</td>\n",
       "      <td>0.4019</td>\n",
       "      <td>positive</td>\n",
       "    </tr>\n",
       "    <tr>\n",
       "      <th>...</th>\n",
       "      <td>...</td>\n",
       "      <td>...</td>\n",
       "      <td>...</td>\n",
       "      <td>...</td>\n",
       "      <td>...</td>\n",
       "      <td>...</td>\n",
       "      <td>...</td>\n",
       "      <td>...</td>\n",
       "      <td>...</td>\n",
       "      <td>...</td>\n",
       "      <td>...</td>\n",
       "      <td>...</td>\n",
       "    </tr>\n",
       "    <tr>\n",
       "      <th>1485</th>\n",
       "      <td>2022-07-28 05:21:49</td>\n",
       "      <td>Birdsongbee</td>\n",
       "      <td>reply</td>\n",
       "      <td>The new one actually is! The word problems are...</td>\n",
       "      <td>/r/Teachers/comments/w9m0ur/if_you_could_pick_...</td>\n",
       "      <td>new one actually word problem much decodable p...</td>\n",
       "      <td>no</td>\n",
       "      <td>0.419</td>\n",
       "      <td>0.581</td>\n",
       "      <td>0.000</td>\n",
       "      <td>-0.8689</td>\n",
       "      <td>negative</td>\n",
       "    </tr>\n",
       "    <tr>\n",
       "      <th>1486</th>\n",
       "      <td>2022-07-28 02:36:16</td>\n",
       "      <td>Dls1989</td>\n",
       "      <td>comment</td>\n",
       "      <td>From what I have experience, math in focus was...</td>\n",
       "      <td>/r/Teachers/comments/w9m0ur/if_you_could_pick_...</td>\n",
       "      <td>experience math focus absolute worst honestly ...</td>\n",
       "      <td>no</td>\n",
       "      <td>0.294</td>\n",
       "      <td>0.532</td>\n",
       "      <td>0.174</td>\n",
       "      <td>-0.8779</td>\n",
       "      <td>negative</td>\n",
       "    </tr>\n",
       "    <tr>\n",
       "      <th>1487</th>\n",
       "      <td>2022-07-27 20:57:46</td>\n",
       "      <td>ownersequity</td>\n",
       "      <td>comment</td>\n",
       "      <td>The dollar sign! As soon as I make problems ab...</td>\n",
       "      <td>/r/Teachers/comments/w9m0ur/if_you_could_pick_...</td>\n",
       "      <td>dollar sign soon make problem money student in...</td>\n",
       "      <td>no</td>\n",
       "      <td>0.237</td>\n",
       "      <td>0.526</td>\n",
       "      <td>0.237</td>\n",
       "      <td>0.0000</td>\n",
       "      <td>neutral</td>\n",
       "    </tr>\n",
       "    <tr>\n",
       "      <th>1488</th>\n",
       "      <td>2022-07-28 05:00:58</td>\n",
       "      <td>csplonk</td>\n",
       "      <td>comment</td>\n",
       "      <td>ST math is awesome for ELL’s. All puzzle based...</td>\n",
       "      <td>/r/Teachers/comments/w9m0ur/if_you_could_pick_...</td>\n",
       "      <td>st math awesome ell puzzle based logic math co...</td>\n",
       "      <td>no</td>\n",
       "      <td>0.000</td>\n",
       "      <td>0.687</td>\n",
       "      <td>0.313</td>\n",
       "      <td>0.6249</td>\n",
       "      <td>positive</td>\n",
       "    </tr>\n",
       "    <tr>\n",
       "      <th>1489</th>\n",
       "      <td>2022-07-28 05:43:45</td>\n",
       "      <td>VectorVictor424</td>\n",
       "      <td>comment</td>\n",
       "      <td>Art of Problem Solving</td>\n",
       "      <td>/r/Teachers/comments/w9m0ur/if_you_could_pick_...</td>\n",
       "      <td>art problem solving</td>\n",
       "      <td>no</td>\n",
       "      <td>0.443</td>\n",
       "      <td>0.164</td>\n",
       "      <td>0.393</td>\n",
       "      <td>-0.0772</td>\n",
       "      <td>negative</td>\n",
       "    </tr>\n",
       "  </tbody>\n",
       "</table>\n",
       "<p>1490 rows × 12 columns</p>\n",
       "</div>"
      ],
      "text/plain": [
       "                    date                author  \\\n",
       "0    2024-08-13 23:24:56  Expert_Midnight_7677   \n",
       "1    2024-08-14 01:27:39      Tiredanddontcare   \n",
       "2    2024-03-19 01:06:58               maaximo   \n",
       "3    2024-07-16 19:10:48       Latter_Text4725   \n",
       "4    2024-01-18 18:27:28  Reasonable_Cover3220   \n",
       "...                  ...                   ...   \n",
       "1485 2022-07-28 05:21:49           Birdsongbee   \n",
       "1486 2022-07-28 02:36:16               Dls1989   \n",
       "1487 2022-07-27 20:57:46          ownersequity   \n",
       "1488 2022-07-28 05:00:58               csplonk   \n",
       "1489 2022-07-28 05:43:45       VectorVictor424   \n",
       "\n",
       "                                      title  \\\n",
       "0             Eureka math for combo class?    \n",
       "1                                   comment   \n",
       "2                           Eureka squared    \n",
       "3     Eureka SQUARED 8th & 7th grade Slides   \n",
       "4                      Eureka Math Citation   \n",
       "...                                     ...   \n",
       "1485                                  reply   \n",
       "1486                                comment   \n",
       "1487                                comment   \n",
       "1488                                comment   \n",
       "1489                                comment   \n",
       "\n",
       "                                                   text  \\\n",
       "0     Has anyone taught Eureka math to 1st and 2nd g...   \n",
       "1     Not first and second but I did teach 3rd and 4...   \n",
       "2     Anyone using this? Specifically the 7/8 compac...   \n",
       "3     Hi there, \\n\\n  \\nThis is my 4th year teaching...   \n",
       "4     Hello! I am doing my EdTPA and i am wondering ...   \n",
       "...                                                 ...   \n",
       "1485  The new one actually is! The word problems are...   \n",
       "1486  From what I have experience, math in focus was...   \n",
       "1487  The dollar sign! As soon as I make problems ab...   \n",
       "1488  ST math is awesome for ELL’s. All puzzle based...   \n",
       "1489                             Art of Problem Solving   \n",
       "\n",
       "                                                    url  \\\n",
       "0     https://www.reddit.com/r/Teachers/comments/1er...   \n",
       "1     /r/Teachers/comments/1erm9cz/eureka_math_for_c...   \n",
       "2     https://www.reddit.com/r/Teachers/comments/1bi...   \n",
       "3     https://www.reddit.com/r/Teachers/comments/1e4...   \n",
       "4     https://www.reddit.com/r/Teachers/comments/199...   \n",
       "...                                                 ...   \n",
       "1485  /r/Teachers/comments/w9m0ur/if_you_could_pick_...   \n",
       "1486  /r/Teachers/comments/w9m0ur/if_you_could_pick_...   \n",
       "1487  /r/Teachers/comments/w9m0ur/if_you_could_pick_...   \n",
       "1488  /r/Teachers/comments/w9m0ur/if_you_could_pick_...   \n",
       "1489  /r/Teachers/comments/w9m0ur/if_you_could_pick_...   \n",
       "\n",
       "                                           reviewedText explicit    neg  \\\n",
       "0     anyone taught eureka math 1st 2nd grade togeth...      yes  0.000   \n",
       "1     first second teach 3rd 4th together able use z...      yes  0.000   \n",
       "2     anyone using specifically compacted curriculum...       no  0.000   \n",
       "3     hi 4th year teaching 4th new curriculum wooo s...      yes  0.045   \n",
       "4     hello edtpa wondering cite eureka math grade f...      yes  0.000   \n",
       "...                                                 ...      ...    ...   \n",
       "1485  new one actually word problem much decodable p...       no  0.419   \n",
       "1486  experience math focus absolute worst honestly ...       no  0.294   \n",
       "1487  dollar sign soon make problem money student in...       no  0.237   \n",
       "1488  st math awesome ell puzzle based logic math co...       no  0.000   \n",
       "1489                                art problem solving       no  0.443   \n",
       "\n",
       "        neu    pos  compound sentiment  \n",
       "0     0.781  0.219    0.6369  positive  \n",
       "1     1.000  0.000    0.0000   neutral  \n",
       "2     0.706  0.294    0.3612  positive  \n",
       "3     0.882  0.073    0.1280  positive  \n",
       "4     0.838  0.162    0.4019  positive  \n",
       "...     ...    ...       ...       ...  \n",
       "1485  0.581  0.000   -0.8689  negative  \n",
       "1486  0.532  0.174   -0.8779  negative  \n",
       "1487  0.526  0.237    0.0000   neutral  \n",
       "1488  0.687  0.313    0.6249  positive  \n",
       "1489  0.164  0.393   -0.0772  negative  \n",
       "\n",
       "[1490 rows x 12 columns]"
      ]
     },
     "execution_count": 28,
     "metadata": {},
     "output_type": "execute_result"
    }
   ],
   "source": [
    "df"
   ]
  },
  {
   "cell_type": "markdown",
   "id": "4f6f4b6a-026c-4b65-9d97-146ab5a97e1e",
   "metadata": {},
   "source": [
    "#### Sentiment Analysis for All Entries"
   ]
  },
  {
   "cell_type": "code",
   "execution_count": 29,
   "id": "926e12b3-7387-47a2-830a-29c23a5c14ff",
   "metadata": {},
   "outputs": [],
   "source": [
    "#Plot Distribution of Sentiment\n",
    "yaxis = df['sentiment'].value_counts().to_list()\n",
    "xaxis = ['Positive', 'Neutral', 'Negative']"
   ]
  },
  {
   "cell_type": "code",
   "execution_count": 30,
   "id": "8b0ef5ed-5eaa-41b2-ae15-4e77dbdcf949",
   "metadata": {},
   "outputs": [
    {
     "data": {
      "image/png": "[encoded data removed]",
      "text/plain": [
       "<Figure size 640x480 with 1 Axes>"
      ]
     },
     "metadata": {},
     "output_type": "display_data"
    }
   ],
   "source": [
    "plt.bar(xaxis,yaxis)\n",
    "plt.title('Total Sentiment Reviews')\n",
    "plt.show()"
   ]
  },
  {
   "cell_type": "code",
   "execution_count": 31,
   "id": "353a63dc-2a11-4e2f-aa71-8fe5b9380ffc",
   "metadata": {},
   "outputs": [
    {
     "data": {
      "image/png": "[encoded data removed]",
      "text/plain": [
       "<Figure size 640x480 with 1 Axes>"
      ]
     },
     "metadata": {},
     "output_type": "display_data"
    },
    {
     "data": {
      "image/png": "[encoded data removed]",
      "text/plain": [
       "<Figure size 640x480 with 1 Axes>"
      ]
     },
     "metadata": {},
     "output_type": "display_data"
    },
    {
     "data": {
      "image/png": "[encoded data removed]",
      "text/plain": [
       "<Figure size 640x480 with 1 Axes>"
      ]
     },
     "metadata": {},
     "output_type": "display_data"
    },
    {
     "data": {
      "image/png": "[encoded data removed]",
      "text/plain": [
       "<Figure size 640x480 with 1 Axes>"
      ]
     },
     "metadata": {},
     "output_type": "display_data"
    }
   ],
   "source": [
    "#Plot Distribution of Pos, Neg, Neutral\n",
    "\n",
    "for c in df.columns[7:11]:\n",
    "    plt.hist(pscoresdf[c])\n",
    "    plt.xlabel('Score')\n",
    "    plt.ylabel('Number of reviews')\n",
    "    plt.title(f'All {c.upper()} Score Reviews')\n",
    "    plt.tight_layout()\n",
    "    plt.show()"
   ]
  },
  {
   "cell_type": "markdown",
   "id": "76050990-7836-42aa-856c-4daad33d272d",
   "metadata": {},
   "source": [
    "#### Sentiment Analysis for Entries Explicitly about 'Eureka'"
   ]
  },
  {
   "cell_type": "code",
   "execution_count": 32,
   "id": "3a866809-abce-4a3b-89a4-97641382f9ec",
   "metadata": {
    "scrolled": true
   },
   "outputs": [
    {
     "data": {
      "text/html": [
       "<div>\n",
       "<style scoped>\n",
       "    .dataframe tbody tr th:only-of-type {\n",
       "        vertical-align: middle;\n",
       "    }\n",
       "\n",
       "    .dataframe tbody tr th {\n",
       "        vertical-align: top;\n",
       "    }\n",
       "\n",
       "    .dataframe thead th {\n",
       "        text-align: right;\n",
       "    }\n",
       "</style>\n",
       "<table border=\"1\" class=\"dataframe\">\n",
       "  <thead>\n",
       "    <tr style=\"text-align: right;\">\n",
       "      <th></th>\n",
       "      <th>date</th>\n",
       "      <th>author</th>\n",
       "      <th>title</th>\n",
       "      <th>text</th>\n",
       "      <th>url</th>\n",
       "      <th>reviewedText</th>\n",
       "      <th>explicit</th>\n",
       "      <th>neg</th>\n",
       "      <th>neu</th>\n",
       "      <th>pos</th>\n",
       "      <th>compound</th>\n",
       "      <th>sentiment</th>\n",
       "    </tr>\n",
       "  </thead>\n",
       "  <tbody>\n",
       "    <tr>\n",
       "      <th>0</th>\n",
       "      <td>2024-08-13 23:24:56</td>\n",
       "      <td>Expert_Midnight_7677</td>\n",
       "      <td>Eureka math for combo class?</td>\n",
       "      <td>Has anyone taught Eureka math to 1st and 2nd g...</td>\n",
       "      <td>https://www.reddit.com/r/Teachers/comments/1er...</td>\n",
       "      <td>anyone taught eureka math 1st 2nd grade togeth...</td>\n",
       "      <td>yes</td>\n",
       "      <td>0.000</td>\n",
       "      <td>0.781</td>\n",
       "      <td>0.219</td>\n",
       "      <td>0.6369</td>\n",
       "      <td>positive</td>\n",
       "    </tr>\n",
       "    <tr>\n",
       "      <th>1</th>\n",
       "      <td>2024-08-14 01:27:39</td>\n",
       "      <td>Tiredanddontcare</td>\n",
       "      <td>comment</td>\n",
       "      <td>Not first and second but I did teach 3rd and 4...</td>\n",
       "      <td>/r/Teachers/comments/1erm9cz/eureka_math_for_c...</td>\n",
       "      <td>first second teach 3rd 4th together able use z...</td>\n",
       "      <td>yes</td>\n",
       "      <td>0.000</td>\n",
       "      <td>1.000</td>\n",
       "      <td>0.000</td>\n",
       "      <td>0.0000</td>\n",
       "      <td>neutral</td>\n",
       "    </tr>\n",
       "    <tr>\n",
       "      <th>3</th>\n",
       "      <td>2024-07-16 19:10:48</td>\n",
       "      <td>Latter_Text4725</td>\n",
       "      <td>Eureka SQUARED 8th &amp; 7th grade Slides</td>\n",
       "      <td>Hi there, \\n\\n  \\nThis is my 4th year teaching...</td>\n",
       "      <td>https://www.reddit.com/r/Teachers/comments/1e4...</td>\n",
       "      <td>hi 4th year teaching 4th new curriculum wooo s...</td>\n",
       "      <td>yes</td>\n",
       "      <td>0.045</td>\n",
       "      <td>0.882</td>\n",
       "      <td>0.073</td>\n",
       "      <td>0.1280</td>\n",
       "      <td>positive</td>\n",
       "    </tr>\n",
       "    <tr>\n",
       "      <th>4</th>\n",
       "      <td>2024-01-18 18:27:28</td>\n",
       "      <td>Reasonable_Cover3220</td>\n",
       "      <td>Eureka Math Citation</td>\n",
       "      <td>Hello! I am doing my EdTPA and i am wondering ...</td>\n",
       "      <td>https://www.reddit.com/r/Teachers/comments/199...</td>\n",
       "      <td>hello edtpa wondering cite eureka math grade f...</td>\n",
       "      <td>yes</td>\n",
       "      <td>0.000</td>\n",
       "      <td>0.838</td>\n",
       "      <td>0.162</td>\n",
       "      <td>0.4019</td>\n",
       "      <td>positive</td>\n",
       "    </tr>\n",
       "    <tr>\n",
       "      <th>7</th>\n",
       "      <td>2023-09-27 21:47:25</td>\n",
       "      <td>Surrybee</td>\n",
       "      <td>Eureka math squared</td>\n",
       "      <td>Edit: Daughter's in bed now so it's no longer ...</td>\n",
       "      <td>https://www.reddit.com/r/Teachers/comments/16t...</td>\n",
       "      <td>edit daughter bed longer needed tonight someon...</td>\n",
       "      <td>yes</td>\n",
       "      <td>0.106</td>\n",
       "      <td>0.656</td>\n",
       "      <td>0.238</td>\n",
       "      <td>0.9209</td>\n",
       "      <td>positive</td>\n",
       "    </tr>\n",
       "    <tr>\n",
       "      <th>...</th>\n",
       "      <td>...</td>\n",
       "      <td>...</td>\n",
       "      <td>...</td>\n",
       "      <td>...</td>\n",
       "      <td>...</td>\n",
       "      <td>...</td>\n",
       "      <td>...</td>\n",
       "      <td>...</td>\n",
       "      <td>...</td>\n",
       "      <td>...</td>\n",
       "      <td>...</td>\n",
       "      <td>...</td>\n",
       "    </tr>\n",
       "    <tr>\n",
       "      <th>1469</th>\n",
       "      <td>2022-07-27 20:02:24</td>\n",
       "      <td>Blondiemath</td>\n",
       "      <td>comment</td>\n",
       "      <td>Just going to say the one you don’t want: Expr...</td>\n",
       "      <td>/r/Teachers/comments/w9m0ur/if_you_could_pick_...</td>\n",
       "      <td>going say one want expression degree math well...</td>\n",
       "      <td>yes</td>\n",
       "      <td>0.145</td>\n",
       "      <td>0.601</td>\n",
       "      <td>0.254</td>\n",
       "      <td>0.2732</td>\n",
       "      <td>positive</td>\n",
       "    </tr>\n",
       "    <tr>\n",
       "      <th>1470</th>\n",
       "      <td>2022-07-27 22:07:21</td>\n",
       "      <td>Radiant-Salad-9772</td>\n",
       "      <td>reply</td>\n",
       "      <td>Eureka was not ELL friendly in my opinion</td>\n",
       "      <td>/r/Teachers/comments/w9m0ur/if_you_could_pick_...</td>\n",
       "      <td>eureka ell friendly opinion</td>\n",
       "      <td>yes</td>\n",
       "      <td>0.000</td>\n",
       "      <td>0.484</td>\n",
       "      <td>0.516</td>\n",
       "      <td>0.4939</td>\n",
       "      <td>positive</td>\n",
       "    </tr>\n",
       "    <tr>\n",
       "      <th>1475</th>\n",
       "      <td>2022-07-27 20:48:34</td>\n",
       "      <td>pumpkinotter</td>\n",
       "      <td>comment</td>\n",
       "      <td>My school is 70% ELL and use Eureka math. What...</td>\n",
       "      <td>/r/Teachers/comments/w9m0ur/if_you_could_pick_...</td>\n",
       "      <td>school 70 ell use eureka math love even using ...</td>\n",
       "      <td>yes</td>\n",
       "      <td>0.095</td>\n",
       "      <td>0.632</td>\n",
       "      <td>0.274</td>\n",
       "      <td>0.7269</td>\n",
       "      <td>positive</td>\n",
       "    </tr>\n",
       "    <tr>\n",
       "      <th>1483</th>\n",
       "      <td>2022-07-27 22:36:29</td>\n",
       "      <td>queeenbarb</td>\n",
       "      <td>comment</td>\n",
       "      <td>eureka. but no script. idk what they need to d...</td>\n",
       "      <td>/r/Teachers/comments/w9m0ur/if_you_could_pick_...</td>\n",
       "      <td>eureka script idk need get rid script need get...</td>\n",
       "      <td>yes</td>\n",
       "      <td>0.044</td>\n",
       "      <td>0.596</td>\n",
       "      <td>0.361</td>\n",
       "      <td>0.9022</td>\n",
       "      <td>positive</td>\n",
       "    </tr>\n",
       "    <tr>\n",
       "      <th>1484</th>\n",
       "      <td>2022-07-28 00:16:43</td>\n",
       "      <td>MeleKalikimakaYall</td>\n",
       "      <td>comment</td>\n",
       "      <td>I teach first grade in a district with a very ...</td>\n",
       "      <td>/r/Teachers/comments/w9m0ur/if_you_could_pick_...</td>\n",
       "      <td>teach first grade district high ell population...</td>\n",
       "      <td>yes</td>\n",
       "      <td>0.123</td>\n",
       "      <td>0.683</td>\n",
       "      <td>0.195</td>\n",
       "      <td>0.9601</td>\n",
       "      <td>positive</td>\n",
       "    </tr>\n",
       "  </tbody>\n",
       "</table>\n",
       "<p>140 rows × 12 columns</p>\n",
       "</div>"
      ],
      "text/plain": [
       "                    date                author  \\\n",
       "0    2024-08-13 23:24:56  Expert_Midnight_7677   \n",
       "1    2024-08-14 01:27:39      Tiredanddontcare   \n",
       "3    2024-07-16 19:10:48       Latter_Text4725   \n",
       "4    2024-01-18 18:27:28  Reasonable_Cover3220   \n",
       "7    2023-09-27 21:47:25              Surrybee   \n",
       "...                  ...                   ...   \n",
       "1469 2022-07-27 20:02:24           Blondiemath   \n",
       "1470 2022-07-27 22:07:21    Radiant-Salad-9772   \n",
       "1475 2022-07-27 20:48:34          pumpkinotter   \n",
       "1483 2022-07-27 22:36:29            queeenbarb   \n",
       "1484 2022-07-28 00:16:43    MeleKalikimakaYall   \n",
       "\n",
       "                                      title  \\\n",
       "0             Eureka math for combo class?    \n",
       "1                                   comment   \n",
       "3     Eureka SQUARED 8th & 7th grade Slides   \n",
       "4                      Eureka Math Citation   \n",
       "7                       Eureka math squared   \n",
       "...                                     ...   \n",
       "1469                                comment   \n",
       "1470                                  reply   \n",
       "1475                                comment   \n",
       "1483                                comment   \n",
       "1484                                comment   \n",
       "\n",
       "                                                   text  \\\n",
       "0     Has anyone taught Eureka math to 1st and 2nd g...   \n",
       "1     Not first and second but I did teach 3rd and 4...   \n",
       "3     Hi there, \\n\\n  \\nThis is my 4th year teaching...   \n",
       "4     Hello! I am doing my EdTPA and i am wondering ...   \n",
       "7     Edit: Daughter's in bed now so it's no longer ...   \n",
       "...                                                 ...   \n",
       "1469  Just going to say the one you don’t want: Expr...   \n",
       "1470          Eureka was not ELL friendly in my opinion   \n",
       "1475  My school is 70% ELL and use Eureka math. What...   \n",
       "1483  eureka. but no script. idk what they need to d...   \n",
       "1484  I teach first grade in a district with a very ...   \n",
       "\n",
       "                                                    url  \\\n",
       "0     https://www.reddit.com/r/Teachers/comments/1er...   \n",
       "1     /r/Teachers/comments/1erm9cz/eureka_math_for_c...   \n",
       "3     https://www.reddit.com/r/Teachers/comments/1e4...   \n",
       "4     https://www.reddit.com/r/Teachers/comments/199...   \n",
       "7     https://www.reddit.com/r/Teachers/comments/16t...   \n",
       "...                                                 ...   \n",
       "1469  /r/Teachers/comments/w9m0ur/if_you_could_pick_...   \n",
       "1470  /r/Teachers/comments/w9m0ur/if_you_could_pick_...   \n",
       "1475  /r/Teachers/comments/w9m0ur/if_you_could_pick_...   \n",
       "1483  /r/Teachers/comments/w9m0ur/if_you_could_pick_...   \n",
       "1484  /r/Teachers/comments/w9m0ur/if_you_could_pick_...   \n",
       "\n",
       "                                           reviewedText explicit    neg  \\\n",
       "0     anyone taught eureka math 1st 2nd grade togeth...      yes  0.000   \n",
       "1     first second teach 3rd 4th together able use z...      yes  0.000   \n",
       "3     hi 4th year teaching 4th new curriculum wooo s...      yes  0.045   \n",
       "4     hello edtpa wondering cite eureka math grade f...      yes  0.000   \n",
       "7     edit daughter bed longer needed tonight someon...      yes  0.106   \n",
       "...                                                 ...      ...    ...   \n",
       "1469  going say one want expression degree math well...      yes  0.145   \n",
       "1470                        eureka ell friendly opinion      yes  0.000   \n",
       "1475  school 70 ell use eureka math love even using ...      yes  0.095   \n",
       "1483  eureka script idk need get rid script need get...      yes  0.044   \n",
       "1484  teach first grade district high ell population...      yes  0.123   \n",
       "\n",
       "        neu    pos  compound sentiment  \n",
       "0     0.781  0.219    0.6369  positive  \n",
       "1     1.000  0.000    0.0000   neutral  \n",
       "3     0.882  0.073    0.1280  positive  \n",
       "4     0.838  0.162    0.4019  positive  \n",
       "7     0.656  0.238    0.9209  positive  \n",
       "...     ...    ...       ...       ...  \n",
       "1469  0.601  0.254    0.2732  positive  \n",
       "1470  0.484  0.516    0.4939  positive  \n",
       "1475  0.632  0.274    0.7269  positive  \n",
       "1483  0.596  0.361    0.9022  positive  \n",
       "1484  0.683  0.195    0.9601  positive  \n",
       "\n",
       "[140 rows x 12 columns]"
      ]
     },
     "execution_count": 32,
     "metadata": {},
     "output_type": "execute_result"
    }
   ],
   "source": [
    "#Isolate Rows where the text explicitly mentions 'Eureka'\n",
    "expdf=df.loc[df['explicit'] == 'yes']\n",
    "expdf"
   ]
  },
  {
   "cell_type": "code",
   "execution_count": 33,
   "id": "411cd373-62c1-4fd9-96a6-abea9cef4a54",
   "metadata": {},
   "outputs": [],
   "source": [
    "#Plot Distribution of Sentiment (explicit)\n",
    "yexp = expdf['sentiment'].value_counts().to_list()\n",
    "xexp = ['Positive', 'Neutral', 'Negative']"
   ]
  },
  {
   "cell_type": "code",
   "execution_count": 34,
   "id": "0a657dbe-508e-4686-a5e3-7208a39a6d49",
   "metadata": {},
   "outputs": [
    {
     "data": {
      "image/png": "[encoded data removed]",
      "text/plain": [
       "<Figure size 640x480 with 1 Axes>"
      ]
     },
     "metadata": {},
     "output_type": "display_data"
    }
   ],
   "source": [
    "plt.bar(xexp,yexp)\n",
    "plt.title(\"Sentiment Review of All Entries Explicitly Mentioning 'Eureka'\")\n",
    "plt.show()"
   ]
  },
  {
   "cell_type": "code",
   "execution_count": 35,
   "id": "dfbebc20-b1c6-4a28-9172-0b4e9239ad48",
   "metadata": {},
   "outputs": [
    {
     "data": {
      "image/png": "[encoded data removed]",
      "text/plain": [
       "<Figure size 640x480 with 1 Axes>"
      ]
     },
     "metadata": {},
     "output_type": "display_data"
    },
    {
     "data": {
      "image/png": "[encoded data removed]",
      "text/plain": [
       "<Figure size 640x480 with 1 Axes>"
      ]
     },
     "metadata": {},
     "output_type": "display_data"
    },
    {
     "data": {
      "image/png": "[encoded data removed]",
      "text/plain": [
       "<Figure size 640x480 with 1 Axes>"
      ]
     },
     "metadata": {},
     "output_type": "display_data"
    },
    {
     "data": {
      "image/png": "[encoded data removed]",
      "text/plain": [
       "<Figure size 640x480 with 1 Axes>"
      ]
     },
     "metadata": {},
     "output_type": "display_data"
    }
   ],
   "source": [
    "#Plot Distribution of Pos, Neg, Neutral (explicit)\n",
    "for c in expdf.columns[7:11]:\n",
    "    plt.hist(expdf[c])\n",
    "    plt.xlabel('Score')\n",
    "    plt.ylabel('Number of reviews')\n",
    "    plt.title(f\"{c.upper()} Entries Explicitly Mentioning 'Eureka' \")\n",
    "    plt.tight_layout()\n",
    "    plt.show()"
   ]
  },
  {
   "cell_type": "markdown",
   "id": "3148c22b-1701-49a5-ad4a-606a6a73d2be",
   "metadata": {},
   "source": [
    "### Keyword Extractor\n",
    "Credit: Manmohan Singh \\\n",
    "https://towardsdatascience.com/keyword-extraction-process-in-python-with-natural-language-processing-nlp-d769a9069d5c"
   ]
  },
  {
   "cell_type": "code",
   "execution_count": 108,
   "id": "fab36499-f5a4-47ae-aacd-670eeeb02611",
   "metadata": {},
   "outputs": [],
   "source": [
    "rake_nltk_var = Rake()"
   ]
  },
  {
   "cell_type": "code",
   "execution_count": 121,
   "id": "af0535d3-65c6-45b2-b6d6-7af547ef761b",
   "metadata": {},
   "outputs": [],
   "source": [
    "rake_nltk_var.extract_keywords_from_text(expdf['text'][1])"
   ]
  },
  {
   "cell_type": "code",
   "execution_count": 122,
   "id": "6874cbb5-4d12-428e-9d2e-e98a9a999194",
   "metadata": {},
   "outputs": [],
   "source": [
    "keywords_extracted = rake_nltk_var.get_ranked_phrases()"
   ]
  },
  {
   "cell_type": "code",
   "execution_count": 123,
   "id": "67b5ddb1-60a9-4e9f-9397-b437fa986833",
   "metadata": {},
   "outputs": [
    {
     "name": "stdout",
     "output_type": "stream",
     "text": [
      "['8th grade eureka squared', 'ive already reached', 'download entire modules', '4th year teaching', '4th new curriculum', 'slides already made', 'eureka squared', 'wooo !!)', 'whole module', 'throw away', 'summer making', 'slides provided', 'individual lessons', 'slides', 'eureka', 'eureka', 'way', 'wanted', 'unfortunately', 'time', 'time', 'thank', 'test', 'switching', 'rest', 'ps', 'lesson', 'lesson', 'hi', 'creators', 'anyone', '7th']\n"
     ]
    }
   ],
   "source": [
    "print(keywords_extracted)"
   ]
  },
  {
   "cell_type": "code",
   "execution_count": 113,
   "id": "23766121-feb6-4cab-94df-f6d631c842e9",
   "metadata": {},
   "outputs": [
    {
     "data": {
      "text/plain": [
       "'Hi there, \\n\\n  \\nThis is my 4th year teaching & my 4th new curriculum. (WOOO!!)  We are switching to Eureka Squared from Eureka. Unfortunately, the slides provided are only lesson by lesson & not a whole module at a time. Does anyone have  slides already made for 7th or 8th grade Eureka Squared? I wanted to test this out before I throw away the rest of my summer making these slides. \\n\\n  \\nThank you! \\n\\n  \\nPS: Ive already reached out to the creators of Eureka and there is no way to download entire modules. Only individual lessons at a time. '"
      ]
     },
     "execution_count": 113,
     "metadata": {},
     "output_type": "execute_result"
    }
   ],
   "source": [
    "expdf['text'][1]"
   ]
  },
  {
   "cell_type": "code",
   "execution_count": 114,
   "id": "22d621ad-1084-40c6-8fb4-11398e428285",
   "metadata": {},
   "outputs": [
    {
     "data": {
      "text/plain": [
       "'I had a bit of a confrontation with our CSP today. They came to me during my lunch break and wanted to know where I was in Eureka Math and began wanting to know what our \"Highly Leveraged Standards\" for the quarter were. I told her we are working on subtraction within 1000 with borrowing and I am reviewing it in tens and 100s because I was out sick and my kids missed it. They went off on a rant and said that \"No, Eureka says that you should be a blah blah blah and you have to move on.\" I asked, to clarify, if I was supposed to skip teaching subtraction to teach arrays, thus having kids leaving 2nd grade without being capable of adding and subtracting, but having some knowledge of arrays and fucking tape charts. I said, \"No. I am not going to have kids leave my class not knowing how to add and subtract, that is the building blocks of everything else and its developmentally where they are at , Eureka is absolute crap and its the problem.\" We had a few more words and I said, \"My kids will be ready for the test, they will also be ready for 3rd grade, just like they have been every damn year I have taught here.\" Have any of you encountered this level of insanity? I teach in a district where our test scores have tanked every year since Eureka was brought in as the curriculum, and we are hemorrhaging students to charters and other districts.'"
      ]
     },
     "execution_count": 114,
     "metadata": {},
     "output_type": "execute_result"
    }
   ],
   "source": [
    "expdf.sort_values(by=['compound'], ascending=True)['text'][1094]"
   ]
  },
  {
   "cell_type": "code",
   "execution_count": 136,
   "id": "957ac439-f5ca-4a6c-b650-93625f31da4e",
   "metadata": {},
   "outputs": [],
   "source": [
    "rake_nltk_var.extract_keywords_from_text(expdf['text'][1094])"
   ]
  },
  {
   "cell_type": "code",
   "execution_count": 137,
   "id": "b2cf640e-9362-4c42-8c16-f12bcb0d0eda",
   "metadata": {},
   "outputs": [],
   "source": [
    "keywords_extracted = rake_nltk_var.get_ranked_phrases()"
   ]
  },
  {
   "cell_type": "code",
   "execution_count": 138,
   "id": "6b5a25fb-0dfa-4816-ae2b-e74eff786f1d",
   "metadata": {},
   "outputs": [
    {
     "name": "stdout",
     "output_type": "stream",
     "text": [
      "['kids leaving 2nd grade without', 'tanked every year since eureka', 'every damn year', 'subtraction within 1000', 'skip teaching subtraction', 'highly leveraged standards', 'fucking tape charts', 'blah blah blah', '3rd grade', 'kids missed', 'kids leave', 'eureka says', 'eureka math', 'lunch break', 'hemorrhaging students', 'everything else', 'csp today', 'building blocks', 'began wanting', 'absolute crap', 'test scores', 'problem .\"', 'teach arrays', 'kids', 'eureka', 'test', 'teach', 'arrays', '.\"', '.\"', 'working', 'words', 'went', 'wanted', 'told', 'thus', 'tens', 'taught', 'supposed', 'subtracting', 'subtract', 'sick', 'said', 'said', 'said', 'reviewing', 'ready', 'ready', 'rant', 'quarter', 'move', 'like', 'level', 'knowledge', 'knowing', 'know', 'know', 'insanity', 'going', 'encountered', 'districts', 'district', 'developmentally', 'curriculum', 'confrontation', 'class', 'clarify', 'charters', 'capable', 'came', 'brought', 'borrowing', 'bit', 'asked', 'also', 'adding', 'add', '100s']\n"
     ]
    }
   ],
   "source": [
    "print(keywords_extracted)"
   ]
  },
  {
   "cell_type": "code",
   "execution_count": 94,
   "id": "330490d4-3dfb-4012-b0df-f21779d1af88",
   "metadata": {},
   "outputs": [
    {
     "data": {
      "text/plain": [
       "1094    I had a bit of a confrontation with our CSP to...\n",
       "1362    To make a very long story short- I am a first ...\n",
       "1187    STORY TIME\\n\\nBackground - I’m an elementary s...\n",
       "1425    I don't know anything about Gary Rubinstein.  ...\n",
       "279     Yikes. This is what the modern GOP has come to...\n",
       "                              ...                        \n",
       "1226    I’m going to teach 1st grade for the first tim...\n",
       "1240    I will say, having all the copies done for Eur...\n",
       "79      My county is starting Eureka k-5 this upcoming...\n",
       "26      Our district is starting Eureka Math next year...\n",
       "1086    What does vertical alignment look like for com...\n",
       "Name: text, Length: 100, dtype: object"
      ]
     },
     "execution_count": 94,
     "metadata": {},
     "output_type": "execute_result"
    }
   ],
   "source": [
    "expdf.sort_values(by=['compound'], ascending=True)['text'][:100]"
   ]
  },
  {
   "cell_type": "markdown",
   "id": "fcd37d64-5a17-471c-b356-94f899830f81",
   "metadata": {},
   "source": [
    "### Topic Modelling of Negative Reviews with Gensim \n",
    "Credit: Kurtis Pykes https://www.datacamp.com/tutorial/what-is-topic-modeling \\\n",
    "Doc: https://radimrehurek.com/gensim/models/lsimodel.html"
   ]
  },
  {
   "cell_type": "code",
   "execution_count": 36,
   "id": "1f3a4bd4-54c3-4969-be1d-f6ecca53484a",
   "metadata": {},
   "outputs": [],
   "source": [
    "#Create DataFrame of only Negative entries\n",
    "\n",
    "''' There are only 27 negative reviews explicitly about 'Eureka' '''\n",
    "\n",
    "negdf = expdf.loc[expdf['sentiment'] == 'negative'].sort_values(by='compound', ascending=True)"
   ]
  },
  {
   "cell_type": "markdown",
   "id": "69da35b3-2f20-4c13-aa3f-9f3badb7ab79",
   "metadata": {},
   "source": [
    "#### LSA Model (Latent Semantic Analysis)"
   ]
  },
  {
   "cell_type": "code",
   "execution_count": 37,
   "id": "fabe3bc2-075c-4577-b8af-e57da20fa0c6",
   "metadata": {},
   "outputs": [],
   "source": [
    "def lsaModel (reviewedText):\n",
    "    corpus = [i.split() for i in reviewedText]\n",
    "    dictionary = corpora.Dictionary(corpus)\n",
    "    doc_term_matrix = [dictionary.doc2bow(doc) for doc in corpus]\n",
    "    lsa = LsiModel(doc_term_matrix, num_topics=3, id2word=dictionary)\n",
    "    return lsa"
   ]
  },
  {
   "cell_type": "code",
   "execution_count": 38,
   "id": "9b73759f-9c6a-4cac-b06d-2b4d840ee4ce",
   "metadata": {},
   "outputs": [],
   "source": [
    "lsa = lsaModel(negdf['reviewedText'])"
   ]
  },
  {
   "cell_type": "code",
   "execution_count": 39,
   "id": "cf8ce055-5a96-4457-a3c1-4d37ed72b4c5",
   "metadata": {},
   "outputs": [
    {
     "name": "stdout",
     "output_type": "stream",
     "text": [
      "[(0,\n",
      "  '0.419*\"math\" + 0.318*\"student\" + 0.255*\"eureka\" + 0.252*\"grade\" + '\n",
      "  '0.237*\"teacher\" + 0.214*\"year\" + 0.157*\"lesson\" + 0.147*\"curriculum\" + '\n",
      "  '0.146*\"kid\" + 0.144*\"teaching\"'),\n",
      " (1,\n",
      "  '0.303*\"math\" + 0.261*\"know\" + -0.243*\"teacher\" + -0.187*\"year\" + '\n",
      "  '-0.184*\"student\" + 0.179*\"eureka\" + -0.173*\"grade\" + -0.167*\"help\" + '\n",
      "  '-0.164*\"day\" + 0.149*\"curriculum\"'),\n",
      " (2,\n",
      "  '0.300*\"wrong\" + 0.282*\"student\" + 0.232*\"lesson\" + -0.226*\"grade\" + '\n",
      "  '-0.196*\"teacher\" + 0.181*\"slide\" + 0.180*\"back\" + 0.155*\"taught\" + '\n",
      "  '-0.153*\"year\" + -0.147*\"know\"')]\n"
     ]
    }
   ],
   "source": [
    "pprint(lsa.print_topics(num_topics=-1, num_words=10))"
   ]
  },
  {
   "cell_type": "code",
   "execution_count": 40,
   "id": "cf788801-be54-4f9a-9342-836e979d967a",
   "metadata": {},
   "outputs": [
    {
     "name": "stdout",
     "output_type": "stream",
     "text": [
      "[(0,\n",
      "  '0.419*\"math\" + 0.318*\"student\" + 0.255*\"eureka\" + 0.252*\"grade\" + '\n",
      "  '0.237*\"teacher\" + 0.214*\"year\" + 0.157*\"lesson\" + 0.147*\"curriculum\" + '\n",
      "  '0.146*\"kid\" + 0.144*\"teaching\" + 0.142*\"know\" + 0.125*\"first\" + '\n",
      "  '0.125*\"teach\" + 0.121*\"help\" + 0.110*\"classroom\" + 0.110*\"school\" + '\n",
      "  '0.102*\"day\" + 0.100*\"wrong\" + 0.095*\"taught\" + 0.093*\"even\" + '\n",
      "  '0.092*\"district\" + 0.086*\"problem\" + 0.081*\"3rd\" + 0.074*\"also\" + '\n",
      "  '0.068*\"hard\" + 0.063*\"say\" + 0.062*\"4th\" + 0.062*\"time\" + 0.060*\"work\" + '\n",
      "  '0.060*\"need\"'),\n",
      " (1,\n",
      "  '0.303*\"math\" + 0.261*\"know\" + -0.243*\"teacher\" + -0.187*\"year\" + '\n",
      "  '-0.184*\"student\" + 0.179*\"eureka\" + -0.173*\"grade\" + -0.167*\"help\" + '\n",
      "  '-0.164*\"day\" + 0.149*\"curriculum\" + 0.138*\"textbook\" + 0.138*\"rather\" + '\n",
      "  '0.126*\"teach\" + -0.125*\"first\" + 0.123*\"problem\" + -0.123*\"classroom\" + '\n",
      "  '0.110*\"use\" + 0.098*\"core\" + 0.093*\"one\" + 0.092*\"site\" + 0.092*\"camp\" + '\n",
      "  '0.092*\"follow\" + 0.092*\"link\" + 0.092*\"supplement\" + 0.092*\"perfect\" + '\n",
      "  '0.092*\"mistake\" + 0.090*\"kid\" + -0.084*\"admin\" + -0.084*\"zero\" + '\n",
      "  '-0.083*\"4th\"'),\n",
      " (2,\n",
      "  '0.300*\"wrong\" + 0.282*\"student\" + 0.232*\"lesson\" + -0.226*\"grade\" + '\n",
      "  '-0.196*\"teacher\" + 0.181*\"slide\" + 0.180*\"back\" + 0.155*\"taught\" + '\n",
      "  '-0.153*\"year\" + -0.147*\"know\" + 0.146*\"time\" + 0.131*\"could\" + '\n",
      "  '0.121*\"waiting\" + 0.121*\"explaining\" + 0.121*\"sitting\" + 0.121*\"speak\" + '\n",
      "  '0.118*\"went\" + 0.105*\"teaching\" + -0.103*\"curriculum\" + -0.099*\"day\" + '\n",
      "  '-0.096*\"first\" + -0.078*\"3rd\" + -0.069*\"rather\" + -0.069*\"textbook\" + '\n",
      "  '-0.062*\"also\" + 0.062*\"minute\" + 0.062*\"confused\" + -0.062*\"basically\" + '\n",
      "  '0.062*\"question\" + 0.061*\"properly\"')]\n"
     ]
    }
   ],
   "source": [
    "pprint(lsa.show_topics(num_topics=-1, num_words=30, log=False, formatted=True))"
   ]
  },
  {
   "cell_type": "markdown",
   "id": "accf6922-a119-413a-a686-34e8e6d05a7b",
   "metadata": {},
   "source": [
    "#### LDA Model (Latent Dirichlet Allocation)"
   ]
  },
  {
   "cell_type": "code",
   "execution_count": 41,
   "id": "482cfa46-8f7d-4119-b482-ab2da5433a50",
   "metadata": {},
   "outputs": [],
   "source": [
    "def ldaModel (reviewedText):\n",
    "    corpus = [i.split() for i in reviewedText]\n",
    "    dictionary = corpora.Dictionary(corpus)\n",
    "    doc_term_matrix = [dictionary.doc2bow(doc) for doc in corpus]\n",
    "    lda = LdaModel(doc_term_matrix, num_topics=3, id2word=dictionary)\n",
    "    return lda"
   ]
  },
  {
   "cell_type": "code",
   "execution_count": 42,
   "id": "b2880f7f-720b-4f39-9f53-8409a6d91196",
   "metadata": {},
   "outputs": [],
   "source": [
    "lda = ldaModel(negdf['reviewedText'])"
   ]
  },
  {
   "cell_type": "code",
   "execution_count": 43,
   "id": "e31268e5-5f1f-4aa7-9e49-bc7fa486f228",
   "metadata": {},
   "outputs": [
    {
     "name": "stdout",
     "output_type": "stream",
     "text": [
      "[(0,\n",
      "  '0.027*\"math\" + 0.020*\"student\" + 0.018*\"eureka\" + 0.014*\"teacher\" + '\n",
      "  '0.013*\"grade\" + 0.013*\"curriculum\" + 0.012*\"year\" + 0.011*\"teaching\" + '\n",
      "  '0.010*\"kid\" + 0.010*\"problem\" + 0.007*\"lesson\" + 0.007*\"school\" + '\n",
      "  '0.007*\"teach\" + 0.006*\"first\" + 0.006*\"know\" + 0.006*\"class\" + '\n",
      "  '0.005*\"wrong\" + 0.005*\"district\" + 0.005*\"taught\" + 0.005*\"went\" + '\n",
      "  '0.004*\"day\" + 0.004*\"help\" + 0.004*\"time\" + 0.004*\"hard\" + 0.004*\"even\" + '\n",
      "  '0.004*\"classroom\" + 0.004*\"question\" + 0.004*\"work\" + 0.004*\"would\" + '\n",
      "  '0.004*\"word\"'),\n",
      " (1,\n",
      "  '0.028*\"eureka\" + 0.012*\"problem\" + 0.012*\"lesson\" + 0.010*\"way\" + '\n",
      "  '0.009*\"teach\" + 0.009*\"grade\" + 0.008*\"new\" + 0.008*\"wrong\" + 0.008*\"math\" '\n",
      "  '+ 0.007*\"able\" + 0.007*\"work\" + 0.006*\"student\" + 0.006*\"get\" + '\n",
      "  '0.006*\"look\" + 0.006*\"4th\" + 0.005*\"year\" + 0.005*\"understand\" + '\n",
      "  '0.005*\"district\" + 0.005*\"make\" + 0.005*\"core\" + 0.005*\"different\" + '\n",
      "  '0.005*\"teacher\" + 0.005*\"hate\" + 0.005*\"exhausting\" + 0.005*\"squared\" + '\n",
      "  '0.005*\"online\" + 0.005*\"step\" + 0.005*\"http\" + 0.005*\"try\" + 0.004*\"help\"'),\n",
      " (2,\n",
      "  '0.026*\"math\" + 0.023*\"eureka\" + 0.013*\"year\" + 0.012*\"grade\" + 0.012*\"know\" '\n",
      "  '+ 0.012*\"kid\" + 0.011*\"student\" + 0.011*\"curriculum\" + 0.008*\"teacher\" + '\n",
      "  '0.008*\"first\" + 0.007*\"use\" + 0.006*\"district\" + 0.006*\"teach\" + '\n",
      "  '0.005*\"basically\" + 0.005*\"school\" + 0.005*\"even\" + 0.005*\"looking\" + '\n",
      "  '0.005*\"teaching\" + 0.005*\"could\" + 0.005*\"lesson\" + 0.005*\"like\" + '\n",
      "  '0.005*\"many\" + 0.004*\"2nd\" + 0.004*\"would\" + 0.004*\"one\" + 0.004*\"anything\" '\n",
      "  '+ 0.004*\"hate\" + 0.004*\"test\" + 0.004*\"also\" + 0.004*\"went\"')]\n"
     ]
    }
   ],
   "source": [
    "pprint(lda.print_topics(num_topics=-1, num_words=30))"
   ]
  },
  {
   "cell_type": "code",
   "execution_count": 172,
   "id": "4673578c-246f-4011-9e5b-db9d3498023f",
   "metadata": {},
   "outputs": [
    {
     "name": "stdout",
     "output_type": "stream",
     "text": [
      "The history saving thread hit an unexpected error (OperationalError('database or disk is full')).History will not be written to the database.\n"
     ]
    }
   ],
   "source": [
    "ldakw = ldaModel(kwtest)"
   ]
  },
  {
   "cell_type": "code",
   "execution_count": 45,
   "id": "6fa0b3d6-0f57-4ead-b07c-d065c7bd0f1b",
   "metadata": {},
   "outputs": [
    {
     "name": "stdout",
     "output_type": "stream",
     "text": [
      "[(0,\n",
      "  '0.027*\"math\" + 0.020*\"student\" + 0.018*\"eureka\" + 0.014*\"teacher\" + '\n",
      "  '0.013*\"grade\" + 0.013*\"curriculum\" + 0.012*\"year\" + 0.011*\"teaching\" + '\n",
      "  '0.010*\"kid\" + 0.010*\"problem\"'),\n",
      " (1,\n",
      "  '0.028*\"eureka\" + 0.012*\"problem\" + 0.012*\"lesson\" + 0.010*\"way\" + '\n",
      "  '0.009*\"teach\" + 0.009*\"grade\" + 0.008*\"new\" + 0.008*\"wrong\" + 0.008*\"math\" '\n",
      "  '+ 0.007*\"able\"'),\n",
      " (2,\n",
      "  '0.026*\"math\" + 0.023*\"eureka\" + 0.013*\"year\" + 0.012*\"grade\" + 0.012*\"know\" '\n",
      "  '+ 0.012*\"kid\" + 0.011*\"student\" + 0.011*\"curriculum\" + 0.008*\"teacher\" + '\n",
      "  '0.008*\"first\"')]\n"
     ]
    }
   ],
   "source": [
    "pprint(lda.show_topics(num_topics=-1, num_words=10, log=False, formatted=True))"
   ]
  },
  {
   "cell_type": "code",
   "execution_count": 48,
   "id": "d478c323-aea2-49a9-8da1-0984c47fab39",
   "metadata": {},
   "outputs": [
    {
     "data": {
      "text/plain": [
       "27"
      ]
     },
     "execution_count": 48,
     "metadata": {},
     "output_type": "execute_result"
    }
   ],
   "source": [
    "len(negdf)"
   ]
  },
  {
   "cell_type": "code",
   "execution_count": null,
   "id": "89a187ef-297f-44e7-9745-139e5e355242",
   "metadata": {},
   "outputs": [],
   "source": []
  }
 ],
 "metadata": {
  "kernelspec": {
   "display_name": "Python 3 (ipykernel)",
   "language": "python",
   "name": "python3"
  },
  "language_info": {
   "codemirror_mode": {
    "name": "ipython",
    "version": 3
   },
   "file_extension": ".py",
   "mimetype": "text/x-python",
   "name": "python",
   "nbconvert_exporter": "python",
   "pygments_lexer": "ipython3",
   "version": "3.12.1"
  }
 },
 "nbformat": 4,
 "nbformat_minor": 5
}
